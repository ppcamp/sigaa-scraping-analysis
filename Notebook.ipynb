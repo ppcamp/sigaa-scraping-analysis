{
 "cells": [
  {
   "cell_type": "markdown",
   "metadata": {},
   "source": [
    "# Refactor of Sigaa Scrapping"
   ]
  },
  {
   "cell_type": "markdown",
   "metadata": {},
   "source": [
    "## Trying to get the system auths methods"
   ]
  },
  {
   "cell_type": "code",
   "execution_count": 5,
   "metadata": {},
   "outputs": [],
   "source": [
    "id = \"if(typeof jsfcljs == 'function'){jsfcljs(document.getElementById('resultado'),{'resultado:relatorio':'resultado:relatorio','id':'879654'},'');}return false\""
   ]
  },
  {
   "cell_type": "code",
   "execution_count": 13,
   "metadata": {},
   "outputs": [
    {
     "data": {
      "text/plain": [
       "'879654'"
      ]
     },
     "execution_count": 13,
     "metadata": {},
     "output_type": "execute_result"
    }
   ],
   "source": [
    "b = id.rfind(\":\") + 2\n",
    "e = id.rfind(\"'}\")\n",
    "id[b:e]"
   ]
  },
  {
   "cell_type": "code",
   "execution_count": 4,
   "metadata": {},
   "outputs": [],
   "source": [
    "import chompjs"
   ]
  },
  {
   "cell_type": "markdown",
   "metadata": {},
   "source": [
    "```js\n",
    "function dpf(f) {\n",
    "  var adp = f.adp;\n",
    "  if (adp != null) {\n",
    "    for (var i = 0; i < adp.length; i++) {\n",
    "      f.removeChild(adp[i]);\n",
    "    }\n",
    "  }\n",
    "}\n",
    "function apf(f, pvp) {\n",
    "  var adp = new Array();\n",
    "  f.adp = adp;\n",
    "  var i = 0;\n",
    "  for (k in pvp) {\n",
    "    var p = document.createElement(\"input\");\n",
    "    p.type = \"hidden\";\n",
    "    p.name = k;\n",
    "    p.value = pvp[k];\n",
    "    f.appendChild(p);\n",
    "    adp[i++] = p;\n",
    "  }\n",
    "}\n",
    "function jsfcljs(f, pvp, t) {\n",
    "  apf(f, pvp);\n",
    "  var ft = f.target;\n",
    "  if (t) {\n",
    "    f.target = t;\n",
    "  }\n",
    "  f.submit();\n",
    "  f.target = ft;\n",
    "  dpf(f);\n",
    "}\n",
    "\n",
    "```"
   ]
  },
  {
   "cell_type": "code",
   "execution_count": null,
   "metadata": {},
   "outputs": [],
   "source": []
  },
  {
   "cell_type": "code",
   "execution_count": 12,
   "metadata": {},
   "outputs": [],
   "source": [
    "# Install bs4\n",
    "!pip3 install bs4 > /dev/null"
   ]
  },
  {
   "cell_type": "code",
   "execution_count": 13,
   "metadata": {},
   "outputs": [],
   "source": [
    "# Install scrapy\n",
    "# !pip3 install scrapy > /dev/null\n",
    "# !pip3 install chompjs\n",
    "# Create a project\n",
    "# !scrapy startproject sigaa"
   ]
  }
 ],
 "metadata": {
  "kernelspec": {
   "display_name": "Python 3",
   "language": "python",
   "name": "python3"
  },
  "language_info": {
   "codemirror_mode": {
    "name": "ipython",
    "version": 3
   },
   "file_extension": ".py",
   "mimetype": "text/x-python",
   "name": "python",
   "nbconvert_exporter": "python",
   "pygments_lexer": "ipython3",
   "version": "3.8.2"
  }
 },
 "nbformat": 4,
 "nbformat_minor": 4
}
