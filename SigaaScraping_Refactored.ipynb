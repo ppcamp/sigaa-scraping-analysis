{
  "nbformat": 4,
  "nbformat_minor": 0,
  "metadata": {
    "colab": {
      "name": "SigaaScraping-Refactored.ipynb",
      "provenance": [],
      "collapsed_sections": [],
      "authorship_tag": "ABX9TyMX8xhwVHgXPg/EJCYAoSiB",
      "include_colab_link": true
    },
    "kernelspec": {
      "name": "python3",
      "display_name": "Python 3"
    }
  },
  "cells": [
    {
      "cell_type": "markdown",
      "metadata": {
        "id": "view-in-github",
        "colab_type": "text"
      },
      "source": [
        "<a href=\"https://colab.research.google.com/github/ppcamp/sigaaScraping/blob/3.0/SigaaScraping_Refactored.ipynb\" target=\"_parent\"><img src=\"https://colab.research.google.com/assets/colab-badge.svg\" alt=\"Open In Colab\"/></a>"
      ]
    },
    {
      "cell_type": "code",
      "metadata": {
        "id": "Vtq2eE8MFHp2",
        "colab_type": "code",
        "colab": {}
      },
      "source": [
        "# This code will scrap Sigaa's content\n",
        "#\n",
        "# Objective: Get student's score, then create a diagram showing approved classes\n",
        "#            and pre/co requisites\n",
        "#            In future, will be able to show the most importants classes to make\n",
        "#            based in which did the student pass.\n",
        "#            As so, show which class most reprove, which teachers, make a \n",
        "#            student's professional profile and go on."
      ],
      "execution_count": 0,
      "outputs": []
    }
  ]
}