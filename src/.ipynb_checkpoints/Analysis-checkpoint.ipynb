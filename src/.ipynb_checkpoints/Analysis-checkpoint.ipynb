{
 "metadata": {
  "language_info": {
   "codemirror_mode": {
    "name": "ipython",
    "version": 3
   },
   "file_extension": ".py",
   "mimetype": "text/x-python",
   "name": "python",
   "nbconvert_exporter": "python",
   "pygments_lexer": "ipython3",
   "version": "3.8.6-final"
  },
  "orig_nbformat": 2,
  "kernelspec": {
   "name": "python3",
   "display_name": "Python 3",
   "language": "python"
  }
 },
 "nbformat": 4,
 "nbformat_minor": 2,
 "cells": [
  {
   "source": [
    "----\n",
    "\n",
    "*Problemas:*\n",
    "\n",
    "- Os arquivos `[DGroh,MRocha,ALeles]` estão faltando muitas linhas... vai gerar uma inconsistência muito forte, visto que só terão 2 arquivos \"preenchidos\"\n",
    "\n",
    "- Os arquivos `[Viní16,LCoelho]` possuem muita inconsistência (valores acima de 10), o `Viní16` inclusive, possui linhas que **não** podem existir, vide \"10\" em na competência _segurança_ "
   ],
   "cell_type": "markdown",
   "metadata": {}
  },
  {
   "source": [
    "# Análise sobre o perfil dos alunos formandos/formados do curso de Engenharia de Computação\n",
    "\n",
    "**Resumo**\n",
    "\n",
    "Este arquivo irá conter todos os dados referentes à pesquisa realizada.\n",
    "\n",
    "----\n"
   ],
   "cell_type": "markdown",
   "metadata": {}
  },
  {
   "source": [
    "## Obtendo a grade\n",
    "\n",
    "Obtendo a grade do curso de computação 2015, com pré e có requisitos"
   ],
   "cell_type": "markdown",
   "metadata": {}
  },
  {
   "cell_type": "code",
   "execution_count": 2,
   "metadata": {},
   "outputs": [],
   "source": [
    "# Módulo usado para obter a grade (do banco ou realiza raspagem)\n",
    "from modules.Scrapping import get_grid\n",
    "# Dataframe\n",
    "import pandas as pd\n",
    "# Lista os arquivos no diretório\n",
    "from os import listdir"
   ]
  },
  {
   "cell_type": "code",
   "execution_count": 3,
   "metadata": {},
   "outputs": [],
   "source": [
    "def grid(grid):\n",
    "    GraphPre, GraphCo = get_grid(grid)\n",
    "    # Print grid\n",
    "    # only_grid(GraphPre.nodes(), GraphPre.edges(), GraphCo.edges())\n",
    "    return GraphPre, GraphCo\n",
    "\n",
    "\n",
    "def read_csv():\n",
    "    # Get form's infos\n",
    "    infos = []\n",
    "    sheetsDir = \"../assets/sheets\"\n",
    "    for file in listdir(sheetsDir):\n",
    "        tmpDF = pd.read_csv(f\"{sheetsDir}/{file}\").fillna(0)\n",
    "        # Remove two last lines\n",
    "        tmpDF = tmpDF[:-2]\n",
    "        # Renaming columns\n",
    "        header = tmpDF.columns.to_list()\n",
    "        header[0] = 'Periodo'\n",
    "        header[1] = 'Sigla'\n",
    "        header[2] = 'Nome da disciplina'\n",
    "        header[-1] = 'Somatório'\n",
    "        tmpDF.columns = header\n",
    "        # Removing unecessary columns\n",
    "        tmpDF.drop(['Periodo', 'Nome da disciplina',\n",
    "                    'Somatório'], axis=1, inplace=True)\n",
    "        # Turn initials into index\n",
    "        tmpDF.set_index('Sigla', inplace=True)\n",
    "\n",
    "        # Append this dataframe to info vec\n",
    "        infos.append(tmpDF)\n",
    "\n",
    "    # Return a list of dataframes\n",
    "    return infos"
   ]
  },
  {
   "cell_type": "code",
   "execution_count": 4,
   "metadata": {},
   "outputs": [],
   "source": [
    "pre, co = grid('0192015')"
   ]
  },
  {
   "source": [
    "### Obtêm os pesos das competências\n",
    "\n",
    "Faz a leitura dos arquivos csv"
   ],
   "cell_type": "markdown",
   "metadata": {}
  },
  {
   "cell_type": "code",
   "execution_count": 5,
   "metadata": {},
   "outputs": [],
   "source": [
    "infos = read_csv()"
   ]
  },
  {
   "source": [
    "Realiza a média dos arquivos de competências"
   ],
   "cell_type": "markdown",
   "metadata": {}
  },
  {
   "cell_type": "code",
   "execution_count": 6,
   "metadata": {},
   "outputs": [],
   "source": [
    "# Juntando os arquivos num único dataframe\n",
    "out = pd.concat(infos)\n",
    "\n",
    "# Realizando \n",
    "out = out.groupby(out.index)\n",
    "out = out.mean()"
   ]
  },
  {
   "source": [
    "## Transformando a grade em uma relação de competências\n",
    "\n",
    "- Cada competência gera um único _grafo_, assim, é necessário propagar os nós para todos os grafos e atribuir os vértices de acordo com a entrada dos alunos nos arquivos de *competências*"
   ],
   "cell_type": "markdown",
   "metadata": {}
  },
  {
   "cell_type": "code",
   "execution_count": 7,
   "metadata": {},
   "outputs": [],
   "source": [
    "# Obtendo uma cópia do grafo de pré requisito (este grafo possui o período de cada disciplina)\n",
    "nodes = pre.copy()\n",
    "\n",
    "# Removendo os vértices (conexões, que nates eram os pré requisitos)\n",
    "nodes.remove_edges_from(list(nodes.edges()))"
   ]
  },
  {
   "cell_type": "code",
   "execution_count": 8,
   "metadata": {},
   "outputs": [],
   "source": [
    "# Obtêndo o nome de cada coluna (grafo novo)\n",
    "competencias = out.columns.to_list()"
   ]
  },
  {
   "cell_type": "code",
   "execution_count": 9,
   "metadata": {},
   "outputs": [],
   "source": [
    "# Removendo os nós que não constam naquela planilha\n",
    "nos_para_remocao = [no for no in list(nodes.nodes()) if no not in out.index.to_list()]\n",
    "nodes.remove_nodes_from(nos_para_remocao)"
   ]
  },
  {
   "cell_type": "code",
   "execution_count": 10,
   "metadata": {},
   "outputs": [],
   "source": [
    "# Variável que irá iterar sobre os períodos\n",
    "def get_periodo():\n",
    "    \"\"\"\n",
    "    Função que computa o período atual\n",
    "    \"\"\"\n",
    "    p = 0\n",
    "    while p<10:\n",
    "        p+= 1\n",
    "        yield p"
   ]
  },
  {
   "cell_type": "code",
   "execution_count": 11,
   "metadata": {},
   "outputs": [],
   "source": [
    "def debug(msg,*args):\n",
    "    \"\"\"\n",
    "    Print a debug message\n",
    "\n",
    "    Parameters\n",
    "    ----------\n",
    "    msg: string\n",
    "    \"\"\"\n",
    "    printString = msg\n",
    "    if args:\n",
    "        vec = list(map(lambda x: str(x), list(args)))\n",
    "        vec = ', '.join(vec)\n",
    "        printString += ': ' + vec\n",
    "    print(f'[DEBUG] -> {printString}')\n",
    "\n"
   ]
  },
  {
   "cell_type": "code",
   "execution_count": 12,
   "metadata": {},
   "outputs": [],
   "source": [
    "def get_materias(periodo):\n",
    "    \"\"\"\n",
    "    Obtêm todas a lista de todas as siglas de matérias do período\n",
    "\n",
    "    Parameters\n",
    "    ----------\n",
    "    periodo: número que indica o período atual entre [1,10]\n",
    "\n",
    "    Returns\n",
    "    -------\n",
    "    Uma lista contendo todas as siglas das matérias deste período\n",
    "    \"\"\"\n",
    "    global nodes\n",
    "    return [sigla for sigla,data in nodes.nodes(data=True) if data['period']==str(periodo)]\n",
    "\n",
    "\n",
    "\n",
    "def check_competencia(materias_atuais, competencia):\n",
    "    \"\"\"\n",
    "    Verifica se tem algum valor para esta competência neste periodo\n",
    "\n",
    "    Parameters\n",
    "    ----------\n",
    "    materias_atuais: lista de materias no periodo atual\n",
    "    competencia: competencia a ser analizada\n",
    "\n",
    "    Returns\n",
    "    -------\n",
    "    True para caso não tenha uma disciplina no período atual que possua esta competência\n",
    "    \"\"\"\n",
    "    global out\n",
    "    return sum([out.loc[i][competencia] for i in materias_atuais]) == 0\n",
    "\n",
    "\n",
    "\n",
    "def get_peso_competencia(materias_atuais, competencia, materia):\n",
    "    \"\"\"\n",
    "    FIXME: Peso errado? Não, o peso das arestas é referente ao período do vértice de onde sai, se só tiver 1 matéria, irá ser peso 1 para qualquer aresta.\n",
    "\n",
    "    Obtêm o peso da disciplina normalizado pelo peso de disciplinas no semestre, i.e., o máximo que uma competência pode ter no semestre é 1 ou 100%\n",
    "\n",
    "    Parameters\n",
    "    ----------\n",
    "    materias_atuais: lista de materias no periodo atual\n",
    "    competencia: competencia a ser analizada\n",
    "    materia: materia que se deseja obter o peso da competencia para este periodo\n",
    "\n",
    "    Returns\n",
    "    -------\n",
    "    Um float arredondado à duas casas decimais\n",
    "    \"\"\"\n",
    "    global out\n",
    "    total = sum([out.loc[i][competencia] for i in materias_atuais])\n",
    "\n",
    "    # debug(f'get_peso_competencia({materia},  {materias_atuais}) -> Total {total}, Matéria {out.loc[materia][competencia]}\\n')\n",
    "    return round(out.loc[materia][competencia]/total, 2)"
   ]
  },
  {
   "source": [
    "## Gerando os grafos"
   ],
   "cell_type": "markdown",
   "metadata": {}
  },
  {
   "cell_type": "code",
   "execution_count": 14,
   "metadata": {
    "tags": []
   },
   "outputs": [],
   "source": [
    "# Instância que irá ter todos os objetos de grafos indexados pelas competências\n",
    "grafos = {}\n",
    "\n",
    "# Obtêm as matérias do período seguinte (ou do próximo) que tiver este requisito, gerando conexões entre essas disciplinas\n",
    "for competencia in competencias:\n",
    "    # Instancia um novo grafo (baseado no grafo que já possui os nós) para essa competência\n",
    "    grafos[competencia] = nodes.copy()\n",
    "\n",
    "     # Itera essa competência para os próximos períodos\n",
    "    for periodo in get_periodo():\n",
    "        # Obtêm a lista de todas as matérias do período atual\n",
    "        materias_periodo_atual = get_materias(periodo)\n",
    "        # Se maior igual à zero, nenhuma das matérias do período possui valor para essa competência\n",
    "        if check_competencia(materias_periodo_atual,competencia):\n",
    "            # portanto, pode pular esta disciplina\n",
    "            continue\n",
    "\n",
    "        # Lista para armazenar todos os nós de matérias que possuem o mesmo requisito nos próximos períodos\n",
    "        materias_herdeiras = []\n",
    "\n",
    "        # Itera sobre os próximos períodos\n",
    "        prox_periodo = periodo\n",
    "        while prox_periodo < 10:\n",
    "            prox_periodo += 1\n",
    "            # Obtêm a lista de todas as matérias do período atual\n",
    "            materias_proximo_periodo = get_materias(prox_periodo)\n",
    "            # Verifica se neste período possui alguma matéria que herda aquela competência\n",
    "            if check_competencia(materias_proximo_periodo, competencia):\n",
    "                continue\n",
    "            else:\n",
    "                # Caso encontre alguma matéria neste período coloca ela na lista de materias que irão herdar a competência\n",
    "                for i in materias_proximo_periodo:\n",
    "                    if out.loc[i][competencia] > 0:\n",
    "                        materias_herdeiras.append(i)\n",
    "                # Força a saída deste loop\n",
    "                break\n",
    "\n",
    "        # Para cada matéria atual que possui a competência e cada matéria futura que irá herdar, realiza a \"junção\"\n",
    "        for materia_atual in materias_periodo_atual:\n",
    "            # Verifica se a matéria possui esta competência\n",
    "            if not out.loc[materia_atual][competencia]:\n",
    "                continue\n",
    "            for materia_herdeira in materias_herdeiras:\n",
    "                peso = get_peso_competencia(materias_periodo_atual,competencia,materia_atual)\n",
    "                grafos[competencia].add_edge(\n",
    "                    materia_atual,\n",
    "                    materia_herdeira, \n",
    "                    weight=peso\n",
    "                )\n",
    "\n"
   ]
  },
  {
   "source": [
    "## Plot dos grafos de competências"
   ],
   "cell_type": "markdown",
   "metadata": {}
  },
  {
   "cell_type": "code",
   "execution_count": 15,
   "metadata": {},
   "outputs": [],
   "source": [
    "# Realiza o plot do grafo/grade\n",
    "from modules.Plot import weighted_graph, only_grid"
   ]
  },
  {
   "cell_type": "code",
   "execution_count": 16,
   "metadata": {
    "tags": []
   },
   "outputs": [],
   "source": [
    "# Itera sobre cada grafo de competencia\n",
    "for competencia in grafos.keys():\n",
    "    # Gera um plot para cada um com o peso saindo de cada matéria\n",
    "    weighted_graph(\n",
    "        grafos[competencia].nodes(),\n",
    "        list(grafos[competencia].edges(data=True)),\n",
    "        competencia.title().replace(' ','').replace('.','')\n",
    "    )\n"
   ]
  },
  {
   "source": [
    "## Buscando as notas através do bot de raspagem"
   ],
   "cell_type": "markdown",
   "metadata": {}
  },
  {
   "source": [
    "Mandando o `spyder` rodar com os parâmetros abaixo:\n",
    "```bash\n",
    "curl -u 9a357fcfff6341378238837dcce40bdf: https://app.scrapinghub.com/api/run.json \\\n",
    "  -d project=460296 \\\n",
    "  -d spider=history \\\n",
    "  -d user='NUMERO_CPF' \\\n",
    "  -d pswd='SENHA_SIGAA' \\\n",
    "  -d course='NÃO_É_ÚTIL_AQUI' \n",
    "```\n",
    "\n",
    "You can get the **Api key** [here](https://app.scrapinghub.com/account/apikey)"
   ],
   "cell_type": "markdown",
   "metadata": {}
  },
  {
   "source": [
    "#### Obtendo as credenciais do arquivo json"
   ],
   "cell_type": "markdown",
   "metadata": {}
  },
  {
   "cell_type": "code",
   "execution_count": 20,
   "metadata": {},
   "outputs": [],
   "source": [
    "# Loads the credentials file\n",
    "from json import load\n",
    "\n",
    "# Load credentials json\n",
    "credentials = None\n",
    "with open('credentials.json') as file:\n",
    "    credentials = load(file)"
   ]
  },
  {
   "cell_type": "code",
   "execution_count": 28,
   "metadata": {},
   "outputs": [],
   "source": [
    "from scrapinghub import ScrapinghubClient\n",
    "from time import sleep as Wait\n",
    "\n",
    "\n",
    "# Run job\n",
    "apikey = '9a357fcfff6341378238837dcce40bdf'\n",
    "client = ScrapinghubClient(apikey)\n",
    "project = client.get_project(460296)\n",
    "job = project.jobs.run('history', \n",
    "    job_args={\n",
    "        'user': credentials['user.login'],\n",
    "        'pswd': credentials['user.senha'],\n",
    "        # 'course':'0192015'\n",
    "})\n",
    "\n",
    "# Check if job is running\n",
    "job_state = 'running'\n",
    "while job_state != 'finished':\n",
    "    # Check for job state at each 1.5 min\n",
    "    Wait(60*1.5)\n",
    "    # Get job state from scrapyhub\n",
    "    job_state = job.finish()"
   ]
  },
  {
   "source": [
    "Os dados obtidos estão em um formato do tipo\n",
    "```javascript\n",
    "{\n",
    "    \"CourseName\": \"ENGENHARIA DE COMPUTAÇÃO/ICT - Itabira - BACHARELADO - MT\",\n",
    "    \"CurrentYearPeriod\": \"2020.2\",\n",
    "    \"StartYearPeriod\": \"2016.1\",\n",
    "    \"RA\": \"2016001942\",\n",
    "    \"Semester\": {\n",
    "      \"2020.2\": {\n",
    "        \"ECOI32.1\": {\n",
    "          \"Name\": \"CIRCUITOS INTEGRADOS ANALÓGICOS\",\n",
    "          \"Score\": \"6,7\",\n",
    "          \"Fouls\": \"0\",\n",
    "          \"Situation\": \"APROVADO\",\n",
    "          \"Class\": \"01\",\n",
    "          \"Hours\": \"32h\"\n",
    "        },\n",
    "        ...\n",
    "      },\n",
    "      ...\n",
    "    }\n",
    "}\n",
    "```"
   ],
   "cell_type": "markdown",
   "metadata": {}
  },
  {
   "source": [
    "## Obtendo somente uma relação de notas para as matérias\n",
    "\n",
    "Realiza a média no cenário que há bomba."
   ],
   "cell_type": "markdown",
   "metadata": {}
  },
  {
   "cell_type": "code",
   "execution_count": 30,
   "metadata": {
    "tags": []
   },
   "outputs": [],
   "source": [
    "periodos = {}\n",
    "# Obtendo as notas\n",
    "for items in job.items.iter():\n",
    "    periodos = items[b'Semester']"
   ]
  },
  {
   "cell_type": "code",
   "execution_count": 32,
   "metadata": {
    "tags": []
   },
   "outputs": [],
   "source": [
    "notas = {}\n",
    "# Convertendo os dados\n",
    "for periodo in periodos:\n",
    "    periodoVetor = periodos[periodo]\n",
    "    for materia in periodoVetor:\n",
    "        materiaUtf8 = materia.decode('utf-8')\n",
    "        # Se encontrar uma disciplina que tenha um ponto, trata-se de um bloco\n",
    "        if materiaUtf8[-2] == '.':\n",
    "            # Então ignora, pois ela já está contabilizada na disciplina final (sem o ponto)\n",
    "            continue\n",
    "        \n",
    "\n",
    "        score = periodoVetor[materia][b'Score']\n",
    "        # Ignora as matérias que ainda estão sendo feitas\n",
    "        if b'--' in score:\n",
    "            continue\n",
    "        \n",
    "        # Converte para float\n",
    "        score = float(score.decode('utf-8').replace(',','.'))\n",
    "        \n",
    "        # Verifica se o aluno já fez a matéria\n",
    "        if materiaUtf8 in notas:\n",
    "            # Verifica se já repetiu mais de uma vez\n",
    "            if type(notas[materiaUtf8]) is list:\n",
    "                # Se já tiver repetido mais de uma vez, adiciona ao vetor\n",
    "                notas[materiaUtf8].append(score)\n",
    "            else:\n",
    "                # Primeira vez que repetiu\n",
    "                notas[materiaUtf8] = [notas[materiaUtf8], score]\n",
    "        else:\n",
    "            # Primeira vez que fez a matéria\n",
    "            notas[materiaUtf8] = score\n",
    "\n",
    "\n",
    "# Para cada elemento no dicionário de notas, verifica se repetiu, caso tenha, realiza média\n",
    "for materia in notas:\n",
    "    if type(notas[materia]) is list:\n",
    "        total = sum(notas[materia])\n",
    "        numero_elementos = len(notas[materia])\n",
    "        notas[materia] = round(total/numero_elementos, 2)"
   ]
  },
  {
   "cell_type": "code",
   "execution_count": 35,
   "metadata": {
    "tags": []
   },
   "outputs": [],
   "source": [
    "# from pprint import pprint\n",
    "# pprint(notas)"
   ]
  },
  {
   "source": [
    "### Andando no grafo e propagando os valores\n",
    "\n",
    "$\\forall$ Competência $\\to$ verifica se existe a nota, caso exista, propaga\n",
    "\n",
    "Informações sobre a biblioteca podem ser encontradas [aqui](https://networkx.org/documentation/stable//reference/classes/digraph.html#methods)\n"
   ],
   "cell_type": "markdown",
   "metadata": {}
  },
  {
   "cell_type": "code",
   "execution_count": 92,
   "metadata": {},
   "outputs": [],
   "source": [
    "def get_nota(materia:str, peso:float, acumulado:float) -> float:\n",
    "    # Nota do aluno\n",
    "    global notas\n",
    "    # Caso o aluno não tenha feito a matéria ainda, propaga o acumulado pelo peso\n",
    "    if materia not in notas:\n",
    "        return round(acumulado * peso, 3)\n",
    "    # Caso já tenha feito a matéria, calcula pelo peso e retorna mais o acumulado\n",
    "    return round((notas[materia]/10 + acumulado)*peso , 3)"
   ]
  },
  {
   "cell_type": "code",
   "execution_count": 93,
   "metadata": {},
   "outputs": [],
   "source": [
    "import sys\n",
    "# A função poderá ser chamada recursivamente 1000x (default)\n",
    "sys.setrecursionlimit(1000)\n",
    "\n",
    "# DFS\n",
    "def dfs_walk(grafo, materia, acumulado=0) -> float:\n",
    "    \"\"\"\n",
    "    A recursive walk\n",
    "    \"\"\"\n",
    "    global notas\n",
    "    total = 0\n",
    "\n",
    "    # Anda sobre os filhos\n",
    "    for filho in grafo.neighbors(materia):\n",
    "        # Obtém o peso da aresta que manda para o filho\n",
    "        peso = grafo[materia][filho]['weight']\n",
    "        # Obtém a nota (acumulada) que será enviada para o filho\n",
    "        acumulado = get_nota(materia, peso, acumulado)\n",
    "        # Caminha para este filho\n",
    "        total += dfs_walk(grafo, filho, acumulado)\n",
    "    else:\n",
    "        # Não possui filhos (última da grade com essa competência)\n",
    "        total = get_nota(materia, 1, acumulado)\n",
    "    \n",
    "    # Retorna o valor acumulado (dos filhos e até ela)\n",
    "    return total"
   ]
  },
  {
   "cell_type": "code",
   "execution_count": 102,
   "metadata": {},
   "outputs": [],
   "source": [
    "import sys\n",
    "\n",
    "def errprint(msg):\n",
    "    sys.stderr.write('Error: ' + msg)"
   ]
  },
  {
   "cell_type": "code",
   "execution_count": 104,
   "metadata": {
    "tags": []
   },
   "outputs": [
    {
     "output_type": "stream",
     "name": "stderr",
     "text": [
      "Error: Não tem ligações"
     ]
    }
   ],
   "source": [
    "# Dicionário que irá conter o valor sobre cada competência\n",
    "comparacao_nota:dict = {}\n",
    "\n",
    "# Itera sobre as competências\n",
    "for competencia,grafo in grafos.items():\n",
    "    # ∀ competência, encontra a primeira matéria que possui ela\n",
    "    edges = list(grafo.edges())\n",
    "    # Uma vez que o grafo foi montado em ordem cronológica, não há necessidade\n",
    "    # de busca.\n",
    "    if not edges:\n",
    "        errprint('Não tem ligações')\n",
    "        continue\n",
    "    fst_materia = edges[0][0]\n",
    "    # Em seguida, anda no seu grafo e obtêm o valor iterado sobre as notas\n",
    "    resultado = dfs_walk(grafo, fst_materia)\n",
    "    comparacao_nota[competencia] = resultado"
   ]
  },
  {
   "cell_type": "code",
   "execution_count": 105,
   "metadata": {},
   "outputs": [
    {
     "output_type": "stream",
     "name": "stdout",
     "text": [
      "Matemática e física 0.937\nLógica, algoritmos, teoria da comp,  estruras de dados. 0.809\nLinguagens e paradigmas. 1.8\nPAA 1.89\nConfigurar plataformas para softwares e serviços. 1.8\nArquiteturas de computadores 2.49\nSegurança de sis. de comp. 1.64\nEngenharia de software 1.28\nInteligência artificial 1.56\nSistemas microprocessados 0.918\nRedes de computadores 1.6\nSoftware para sistemas de comunicação 0.417\nConhecimento em sistemas de automação  1.26\nGerenciar projetos e sistemas de computação 1.42\nEngenharia-econômica 1.26\nCompreender e resolver problemas 1.55\nAutoaprendizado 0.876\nCriatividade e Inovação 0.809\nComunicação oral e escrita 0.898\nLíngua inglesa 4.9\nEmpreender e exercer liderança 1.065\nTrabalho em equipe 1.256\n"
     ]
    }
   ],
   "source": [
    "for competencia, resultado in comparacao_nota.items():\n",
    "    print(competencia, resultado)"
   ]
  },
  {
   "source": [
    "# ToDO:\n",
    "- [x] Gerar uma visualização de grafo para cada competência (Próxima reunião)\n",
    "- [x] Buscar notas e fazer as médias\n",
    "- [x] Iterar sobre cada competência, gerando um valor relativo às notas\n",
    "- [x] Juntar todos os valores relativo às competências e comparar com o outro vetor\n",
    "- [ ] Conferir se o que estou fazendo está certo\n",
    "- [ ] Comparar com a resposta do mercado"
   ],
   "cell_type": "markdown",
   "metadata": {}
  }
 ]
}