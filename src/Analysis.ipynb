{
 "metadata": {
  "language_info": {
   "codemirror_mode": {
    "name": "ipython",
    "version": 3
   },
   "file_extension": ".py",
   "mimetype": "text/x-python",
   "name": "python",
   "nbconvert_exporter": "python",
   "pygments_lexer": "ipython3",
   "version": "3.9.0-final"
  },
  "orig_nbformat": 2,
  "kernelspec": {
   "name": "python3",
   "display_name": "Python 3.9.0 64-bit",
   "metadata": {
    "interpreter": {
     "hash": "63fd5069d213b44bf678585dea6b12cceca9941eaf7f819626cde1f2670de90d"
    }
   }
  }
 },
 "nbformat": 4,
 "nbformat_minor": 2,
 "cells": [
  {
   "source": [
    "----\n",
    "\n",
    "*Problemas:*\n",
    "\n",
    "- Os arquivos `[DGroh,MRocha,ALeles]` estão faltando muitas linhas... vai gerar uma inconsistência muito forte, visto que só terão 2 arquivos \"preenchidos\"\n",
    "\n",
    "- Os arquivos `[Viní16,LCoelho]` possuem muita inconsistência (valores acima de 10), o `Viní16` inclusive, possui linhas que **não** podem existir, vide \"10\" em na competência _segurança_ "
   ],
   "cell_type": "markdown",
   "metadata": {}
  },
  {
   "source": [
    "# Análise sobre o perfil dos alunos formandos/formados do curso de Engenharia de Computação\n",
    "\n",
    "**Resumo**\n",
    "\n",
    "Este arquivo irá conter todos os dados referentes à pesquisa realizada.\n",
    "\n",
    "----\n"
   ],
   "cell_type": "markdown",
   "metadata": {}
  },
  {
   "source": [
    "### Imports"
   ],
   "cell_type": "markdown",
   "metadata": {}
  },
  {
   "cell_type": "code",
   "execution_count": null,
   "metadata": {},
   "outputs": [],
   "source": [
    "# Módulo usado para obter a grade\n",
    "from modules.Scrapping import get_grid\n",
    "# Realiza o plot do grafo/grade\n",
    "from modules.Plot import weighted_graph, only_grid\n",
    "# Dataframe\n",
    "import pandas as pd\n",
    "# Lista os arquivos no diretório\n",
    "from os import listdir\n",
    "# Bitwise operation em vetores\n",
    "import numpy as np\n",
    "\n",
    "# Graph\n",
    "import networkx as nx"
   ]
  },
  {
   "source": [
    "### Funções"
   ],
   "cell_type": "markdown",
   "metadata": {}
  },
  {
   "cell_type": "code",
   "execution_count": null,
   "metadata": {},
   "outputs": [],
   "source": [
    "def grid(grid):\n",
    "    GraphPre, GraphCo = get_grid(grid)\n",
    "    # Print grid\n",
    "    # only_grid(GraphPre.nodes(), GraphPre.edges(), GraphCo.edges())\n",
    "    return GraphPre, GraphCo\n",
    "\n",
    "\n",
    "def read_csv():\n",
    "    # Get form's infos\n",
    "    infos = []\n",
    "    sheetsDir = \"../assets/sheets\"\n",
    "    for file in listdir(sheetsDir):\n",
    "        tmpDF = pd.read_csv(f\"{sheetsDir}/{file}\").fillna(0)\n",
    "        # Remove two last lines\n",
    "        tmpDF = tmpDF[:-2]\n",
    "        # Renaming columns\n",
    "        header = tmpDF.columns.to_list()\n",
    "        header[0] = 'Periodo'\n",
    "        header[1] = 'Sigla'\n",
    "        header[2] = 'Nome da disciplina'\n",
    "        header[-1] = 'Somatório'\n",
    "        tmpDF.columns = header\n",
    "        # Removing unecessary columns\n",
    "        tmpDF.drop(['Periodo', 'Nome da disciplina',\n",
    "                    'Somatório'], axis=1, inplace=True)\n",
    "        # Turn initials into index\n",
    "        tmpDF.set_index('Sigla', inplace=True)\n",
    "\n",
    "        # Append this dataframe to info vec\n",
    "        infos.append(tmpDF)\n",
    "\n",
    "    # Return a list of dataframes\n",
    "    return infos"
   ]
  },
  {
   "source": [
    "### Obtêm o grafo da grade e gera a visualização dela"
   ],
   "cell_type": "markdown",
   "metadata": {}
  },
  {
   "cell_type": "code",
   "execution_count": null,
   "metadata": {},
   "outputs": [],
   "source": [
    "pre, co = grid('0192015')"
   ]
  },
  {
   "source": [
    "### Obtêm os pesos dos arquivos csv"
   ],
   "cell_type": "markdown",
   "metadata": {}
  },
  {
   "cell_type": "code",
   "execution_count": null,
   "metadata": {},
   "outputs": [],
   "source": [
    "infos = read_csv()"
   ]
  },
  {
   "source": [
    "### Realizando a média dos arquivos"
   ],
   "cell_type": "markdown",
   "metadata": {}
  },
  {
   "cell_type": "code",
   "execution_count": null,
   "metadata": {},
   "outputs": [],
   "source": [
    "# Juntando os arquivos num único dataframe\n",
    "out = pd.concat(infos)\n",
    "\n",
    "# Realizando \n",
    "out = out.groupby(out.index)\n",
    "out = out.mean()"
   ]
  },
  {
   "source": [
    "## Transformando a grade em uma relação de competências\n",
    "\n",
    "- Cada competência gera um único _grafo_, assim, é necessário propagar os nós para todos os grafos, e atribuir os vértices de acordo com a entrada dos alunos"
   ],
   "cell_type": "markdown",
   "metadata": {}
  },
  {
   "cell_type": "code",
   "execution_count": null,
   "metadata": {},
   "outputs": [],
   "source": [
    "# Obtendo uma cópia do grafo de pré requisito (este grafo possui o período de cada disciplina)\n",
    "nodes = pre.copy()\n",
    "\n",
    "# Removendo os vértices (conexões, que nates eram os pré requisitos)\n",
    "nodes.remove_edges_from(list(nodes.edges()))"
   ]
  },
  {
   "cell_type": "code",
   "execution_count": null,
   "metadata": {},
   "outputs": [],
   "source": [
    "# Obtêndo o nome de cada coluna (grafo novo)\n",
    "edges_names = out.columns.to_list()"
   ]
  },
  {
   "cell_type": "code",
   "execution_count": null,
   "metadata": {},
   "outputs": [],
   "source": [
    "# Removendo os nós que não constam naquela planilha\n",
    "nos_para_remocao = [no for no in list(nodes.nodes()) if no not in out.index.to_list()]\n",
    "nodes.remove_nodes_from(nos_para_remocao)"
   ]
  },
  {
   "cell_type": "code",
   "execution_count": null,
   "metadata": {},
   "outputs": [],
   "source": [
    "# Variável que irá iterar sobre os períodos\n",
    "def get_periodo():\n",
    "    \"\"\"\n",
    "    Função que computa o período atual\n",
    "    \"\"\"\n",
    "    p = 0\n",
    "    while p<10:\n",
    "        p+= 1\n",
    "        yield p"
   ]
  },
  {
   "cell_type": "code",
   "execution_count": null,
   "metadata": {},
   "outputs": [],
   "source": [
    "def get_materias(periodo):\n",
    "    \"\"\"\n",
    "    Obtêm todas a lista de todas as siglas de matérias do período\n",
    "\n",
    "    Parameters\n",
    "    ----------\n",
    "    periodo: número que indica o período atual entre [1,10]\n",
    "\n",
    "    Returns\n",
    "    -------\n",
    "    Uma lista contendo todas as siglas das matérias deste período\n",
    "    \"\"\"\n",
    "    global nodes\n",
    "    return [sigla for sigla,data in nodes.nodes(data=True) if data['period']==str(periodo)]\n",
    "\n",
    "def check_competencia(materias_atuais, competencia):\n",
    "    \"\"\"\n",
    "    Verifica se tem algum valor para esta competência neste periodo\n",
    "\n",
    "    Parameters\n",
    "    ----------\n",
    "    materias_atuais: lista de materias no periodo atual\n",
    "    competencia: competencia a ser analizada\n",
    "\n",
    "    Returns\n",
    "    -------\n",
    "    Booleano, verdadeiro para caso tenha, pelo menos, uma disciplina no período atual que possua esta competência\n",
    "    \"\"\"\n",
    "    global out\n",
    "    return sum([out.loc[i][competencia] for i in materias_periodo_atual]) == 0\n",
    "\n",
    "def get_peso_competencia(materias_atuais, competencia, materia):\n",
    "    \"\"\"\n",
    "    Obtêm o peso da disciplina normalizado pelo peso de disciplinas no semestre, i.e., o máximo que uma competência\n",
    "    pode ter no semestre é 1 ou 100%\n",
    "\n",
    "    Parameters\n",
    "    ----------\n",
    "    materias_atuais: lista de materias no periodo atual\n",
    "    competencia: competencia a ser analizada\n",
    "    materia: materia que se deseja obter o peso da competencia para este periodo\n",
    "\n",
    "\n",
    "    Returns\n",
    "    -------\n",
    "    Um float arredondado à duas casas decimais\n",
    "    \"\"\"\n",
    "    global out\n",
    "    total = sum([out.loc[i][competencia] for i in materias_periodo_atual])\n",
    "    return round(out.loc[materia][competencia]/total, 2)\n",
    "\n",
    "\n",
    "def debug(msg):\n",
    "    \"\"\"\n",
    "    Print a debug message\n",
    "\n",
    "    Parameters\n",
    "    ----------\n",
    "    msg: string\n",
    "    \"\"\"\n",
    "    print(f'[DEBUG] -> {msg}')\n",
    "\n"
   ]
  },
  {
   "cell_type": "code",
   "execution_count": null,
   "metadata": {
    "tags": []
   },
   "outputs": [],
   "source": [
    "# Instância que irá ter todos os objetos de grafos indexados pelas competências\n",
    "grafos = {}\n",
    "\n",
    "# Obtêm as matérias do período seguinte (ou do próximo) que tiver este requisito, gerando conexões entre essas disciplinas\n",
    "for competencia in edges_names:\n",
    "    # Instancia um novo grafo (baseado no grafo que já possui os nós) para essa competência\n",
    "    grafos[competencia] = nodes.copy()\n",
    "\n",
    "    # debug(f'Competencia atual:{competencia}!')\n",
    "\n",
    "     # Itera essa competência para os próximos períodos\n",
    "    for periodo in get_periodo():\n",
    "        \n",
    "        # debug(f'Analisando para o período {periodo}')\n",
    "\n",
    "        # Obtêm a lista de todas as matérias do período atual\n",
    "        materias_periodo_atual = get_materias(periodo)\n",
    "\n",
    "        # debug(f'Matérias neste período {materias_periodo_atual}')\n",
    "\n",
    "        # Se maior igual à zero, significa que nenhuma das matérias do período possui valor para essa competência\n",
    "        if check_competencia(materias_periodo_atual,competencia):\n",
    "            continue # portanto, pode pular\n",
    "    \n",
    "        # debug(f'Possui esta competência neste período!')\n",
    "        \n",
    "        # Lista para armazenar todos os nós de matérias que possuem o mesmo requisito nos próximos períodos\n",
    "        materias_herdeiras = []\n",
    "\n",
    "        # Itera sobre os próximos períodos\n",
    "        prox_periodo = periodo\n",
    "        while prox_periodo < 10:\n",
    "            prox_periodo += 1\n",
    "            # Obtêm a lista de todas as matérias do período atual\n",
    "            materias_proximo_periodo = get_materias(prox_periodo)\n",
    "\n",
    "            # debug(f'Matérias do próximo período {materias_proximo_periodo}')\n",
    "\n",
    "            # Verifica se neste período possui alguma matéria que herda aquela competência\n",
    "            if check_competencia(materias_proximo_periodo, competencia):\n",
    "                continue\n",
    "            else:\n",
    "                # Caso encontre alguma matéria neste período coloca ela na lista de materias que irão herdar a competência\n",
    "                # debug(f'Esta competência possui herdeiros no período {prox_periodo}')\n",
    "\n",
    "                for i in materias_proximo_periodo:\n",
    "                    if out.loc[i][competencia] > 0:\n",
    "                        materias_herdeiras.append(i)\n",
    "                        #debug(f'\\tAdicionando a herdeira {i}')\n",
    "                # Força a saída deste loop\n",
    "                break\n",
    "            # debug(f'Deveria ter saído do loop')\n",
    "\n",
    "        # Para cada matéria atual que possui a competência e cada matéria futura que irá herdar, realiza a \"junção\"\n",
    "        for materia_atual in materias_periodo_atual:\n",
    "            # Verifica se a matéria possui esta competência\n",
    "            if not out.loc[materia_atual][competencia]:\n",
    "                continue\n",
    "            for materia_herdeira in materias_herdeiras:\n",
    "                # debug(f'\\tRealizando as conexões dos vertices (u,v) -> ({materia_atual},{materia_herdeira})')\n",
    "                grafos[competencia].add_edge(\n",
    "                    materia_atual,\n",
    "                    materia_herdeira, \n",
    "                    weight=get_peso_competencia(materias_periodo_atual,competencia,materia_atual)\n",
    "                )\n",
    "\n"
   ]
  },
  {
   "cell_type": "code",
   "execution_count": null,
   "metadata": {},
   "outputs": [],
   "source": [
    "# edges = grafos['Matemática e física'].edges(data=True)\n",
    "# for (u,v,data) in edges:\n",
    "#    weight = data['weight']\n",
    "#    debug(f'({u},{v}) {weight}')"
   ]
  },
  {
   "cell_type": "code",
   "execution_count": null,
   "metadata": {
    "tags": []
   },
   "outputs": [],
   "source": [
    "# Itera sobre cada grafo de competencia\n",
    "for competencia in grafos.keys():\n",
    "    # Gera um plot para cada um com o peso saindo de cada matéria\n",
    "    only_grid(\n",
    "        grafos[competencia].nodes(),\n",
    "        list(grafos[competencia].edges(data=True)),\n",
    "        competencia.title().replace(' ','').replace('.','')\n",
    "    )\n"
   ]
  },
  {
   "source": [
    "# ToDO:\n",
    "- [ ] Gerar uma visualização de grafo para cada competência (Próxima reunião)\n",
    "- [ ] Com isso, basta verificar para cada disciplina o valor que o aluno obteve e atrelar isso ao valor da competência que será propagado. Realizar uma média de valor por périodo antes, atribuir uma nota"
   ],
   "cell_type": "markdown",
   "metadata": {}
  },
  {
   "cell_type": "code",
   "execution_count": null,
   "metadata": {},
   "outputs": [],
   "source": []
  }
 ]
}