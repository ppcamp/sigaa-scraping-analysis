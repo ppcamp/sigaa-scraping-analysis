{
 "cells": [
  {
   "cell_type": "markdown",
   "metadata": {
    "slideshow": {
     "slide_type": "-"
    },
    "tags": [
     "tes"
    ]
   },
   "source": [
    "# Pacotes que precisam ser instalados:\n",
    "Comandos:\n",
    "```shell\n",
    "sudo pip install selenium    # Automatiza o navegador\n",
    "sudo pip install bs4         # Html\n",
    "sudo pip install html5lib    # 'parser' necessário para o bs4\n",
    "sudo pip install textract    # PDF \n",
    "|--- sudo apt install swig          # dependencia do textract (instalacao)\n",
    "|--- sudo apt install libpulse-dev  # dependencia do textract (pulseaudio)\n",
    "```\n",
    "<details>\n",
    "    <summary> Comandos para serem instalados (Todos os pacotes de uma vez)</summary>\n",
    "    <p><b>Instalação:</b><br><i>\n",
    "        <b>sudo</b> apt install swig libpulse-dev <br>\n",
    "        <b>sudo</b> pip install bs4 html5lib textract</i>\n",
    "    </p>\n",
    "    <p><b>Remoção:</b><br><i>\n",
    "        <b>sudo</b> apt autoremove swig libpulse-dev <br>\n",
    "        <b>sudo</b> pip uninstall bs4 html5lib textract</i>\n",
    "    </p>\n",
    "</details>"
   ]
  },
  {
   "cell_type": "markdown",
   "metadata": {},
   "source": [
    "# Imports"
   ]
  },
  {
   "cell_type": "code",
   "execution_count": 2,
   "metadata": {},
   "outputs": [],
   "source": [
    "from selenium import webdriver # automatiza nova guia do navegador em plano de fundo\n",
    "from bs4 import BeautifulSoup  # necessário para trabalhar com o html\n",
    "from selenium.webdriver.common.keys import Keys # Tecla ENTER\n",
    "\n",
    "from os.path import abspath # diretorio\n",
    "import textract # pdf\n",
    "import re as regex # expressao regular para strings (limpeza de \\t\\n)\n",
    "\n",
    "# import pickle # salvando em binario\n",
    "# from os import listdir\n",
    "from packages.SScraping import BasicXml # classe criada para gerar o XML"
   ]
  },
  {
   "cell_type": "markdown",
   "metadata": {},
   "source": [
    "# URL's"
   ]
  },
  {
   "cell_type": "code",
   "execution_count": 3,
   "metadata": {},
   "outputs": [],
   "source": [
    "url_login = \"https://sigaa.unifei.edu.br/sigaa/verTelaLogin.do\"\n",
    "url_turma = \"https://sigaa.unifei.edu.br/sigaa/portais/discente/turmas.jsf\"\n",
    "# url_grade = \"https://sigaa.unifei.edu.br/sigaa//graduacao/curriculo/lista.jsf\"\n",
    "url_default = \"https://sigaa.unifei.edu.br/sigaa/portais/discente/discente.jsf\"\n",
    "url_materia = \"https://sigaa.unifei.edu.br/sigaa/geral/componente_curricular/busca_geral.jsf\""
   ]
  },
  {
   "cell_type": "markdown",
   "metadata": {},
   "source": [
    "# Configurando o ambiente automatizado"
   ]
  },
  {
   "cell_type": "code",
   "execution_count": 4,
   "metadata": {},
   "outputs": [],
   "source": [
    "pasta_projeto = abspath('') + '/'\n",
    "pasta_webdriver = pasta_projeto + 'webdriver/chromedriver'\n",
    "pasta_temp = pasta_projeto + '.temp_files/'\n",
    "pasta_xml_files = pasta_projeto + 'xml_files/'"
   ]
  },
  {
   "cell_type": "code",
   "execution_count": 5,
   "metadata": {},
   "outputs": [],
   "source": [
    "chrome_options = webdriver.ChromeOptions() # variavel de opcoes\n",
    "# chrome_options.add_argument('--headless') # tire o comentário para ocultar a janela\n",
    "chrome_options.binary_location = \"/usr/bin/google-chrome\" # caminho do executavel do chrome\n",
    "\n",
    "# configura o chrome para salvar na pasta '.temp_files' do projeto,\n",
    "chrome_options.add_experimental_option(\n",
    "    \"prefs\",\n",
    "    {\n",
    "        'download.default_directory' : pasta_temp,\n",
    "        'download.prompt_for_download' : False\n",
    "    }\n",
    ")\n",
    "\n",
    "chrome_webdriver_path = pasta_webdriver # caminho do arquivo chromedriver\n",
    "\n",
    "chrome_webdriver = webdriver.Chrome(executable_path=chrome_webdriver_path, options=chrome_options) "
   ]
  },
  {
   "cell_type": "markdown",
   "metadata": {},
   "source": [
    "# Fazendo login no _SIGAA_"
   ]
  },
  {
   "cell_type": "code",
   "execution_count": 6,
   "metadata": {},
   "outputs": [],
   "source": [
    "name = '12638891665' #input(\"Digite o USUÁRIO do SIGAA: \")# Pede o login do sigaa\n",
    "pwd  = 'Sigaa*0223'#input(\"Digite a SENHA do SIGAA: \")"
   ]
  },
  {
   "cell_type": "code",
   "execution_count": 7,
   "metadata": {},
   "outputs": [],
   "source": [
    "try:\n",
    "    chrome_webdriver.get(url_login) # acessando url\n",
    "\n",
    "    user_name = chrome_webdriver.find_element_by_name(\"user.login\") # encontra elemento\n",
    "    user_name.clear() # limpa o campo\n",
    "    user_name.send_keys(name) # envia o conteudo de name para o campo\n",
    "\n",
    "    user_pwd = chrome_webdriver.find_element_by_name(\"user.senha\")\n",
    "    user_pwd.clear()\n",
    "    user_pwd.send_keys(pwd)\n",
    "\n",
    "    user_pwd.send_keys(Keys.ENTER) # tecla enter\n",
    "    \n",
    "except:\n",
    "    print ('Elemento não encontrado na página -> login\\nVerifique sua conexão!')"
   ]
  },
  {
   "cell_type": "markdown",
   "metadata": {},
   "source": [
    "# Pegando as informações do Header do XML"
   ]
  },
  {
   "cell_type": "code",
   "execution_count": 8,
   "metadata": {},
   "outputs": [],
   "source": [
    "try:\n",
    "    curso = chrome_webdriver.find_element_by_css_selector('#agenda-docente > table > tbody > tr:nth-child(2) > td:nth-child(2)').text\n",
    "    grade = '' # obtem no pdf\n",
    "    matricula = chrome_webdriver.find_element_by_css_selector('#agenda-docente > table > tbody > tr:nth-child(1) > td:nth-of-type(2)').text\n",
    "    anoperiodoinicial = chrome_webdriver.find_element_by_css_selector('#agenda-docente > table > tbody > tr:nth-child(6) > td:nth-child(2)').text\n",
    "    anoperiodoatual = '' # obtem no pdf\n",
    "except:\n",
    "    print ('Elemento não encontrado na página -> login(main page)\\nVerifique sua conexão!')"
   ]
  },
  {
   "cell_type": "markdown",
   "metadata": {},
   "source": [
    "# Montando Historico Inicial (Nome,sigla,CH,turma)"
   ]
  },
  {
   "cell_type": "code",
   "execution_count": 83,
   "metadata": {
    "scrolled": false
   },
   "outputs": [],
   "source": [
    "def get_CH(nome):\n",
    "    \"\"\"\n",
    "    Funcao usada para retornar a carga horaria da matéria.\\n\n",
    "    @param nome Sigla da materia que deseja-se obter a CH.\\n\n",
    "    @return (str) 'ch'\n",
    "    \"\"\"\n",
    "    chrome_webdriver.get(url_materia)\n",
    "    \n",
    "    chrome_webdriver.find_element_by_name('formBusca:checkCodigo').click()\n",
    "\n",
    "    box = chrome_webdriver.find_element_by_name('formBusca:j_id_jsp_433775776_860')\n",
    "    box.clear()\n",
    "    box.send_keys(nome)\n",
    "    box.send_keys(Keys.ENTER) # shows 'listagem' \n",
    "\n",
    "    return chrome_webdriver.find_element_by_css_selector('#conteudo > table > tbody > tr > td:nth-child(4)').text"
   ]
  },
  {
   "cell_type": "code",
   "execution_count": 9,
   "metadata": {},
   "outputs": [],
   "source": [
    "historico = {}\n",
    "chrome_webdriver.get(url_turma)\n",
    "soup = BeautifulSoup(chrome_webdriver.page_source, 'html5lib')\n",
    "soup = soup.find('table', class_='listagem')\n",
    "\n",
    "for i in soup.find_all('tr'):  # , class_='linhaPar'):\n",
    "    # escape from tr' that are not importants to us\n",
    "    if i.get('class') is None or i.get('class')[0] == 'destaque':\n",
    "        continue\n",
    "    itsigla = i.find('td').text\n",
    "    itnome = itsigla[itsigla.find(' - ') + 3:]\n",
    "    itsigla = itsigla[:itsigla.find(' -')]\n",
    "    periodo = (i.find_previous('td', class_='periodo').text)\n",
    "    itturma = i.find_next('td').find_next('td').text\n",
    "    ch = (i.find_next('td').find_next('td').find_next('td')).text\n",
    "    \n",
    "    \n",
    "    if (periodo not in historico):\n",
    "        historico[periodo] = {\n",
    "            itsigla: {\n",
    "                'nome': itnome,\n",
    "                'turma': itturma,\n",
    "                'ch': ch[:-1]\n",
    "            }\n",
    "        }\n",
    "\n",
    "    else:\n",
    "        historico[periodo].update({\n",
    "            itsigla: {\n",
    "                'nome': itnome,\n",
    "                'turma': itturma,\n",
    "                'ch': ch[:-1]\n",
    "            }\n",
    "        })\n",
    "    "
   ]
  },
  {
   "cell_type": "code",
   "execution_count": 10,
   "metadata": {},
   "outputs": [
    {
     "data": {
      "text/plain": [
       "{'2019.1': {'EELI12': {'nome': 'ELETRÔNICA BÁSICA II',\n",
       "   'turma': '01',\n",
       "   'ch': '64'},\n",
       "  'EELI14': {'nome': 'ELETRÔNICA DIGITAL', 'turma': '01', 'ch': '32'},\n",
       "  'ECOI22': {'nome': 'INTELIGÊNCIA ARTIFICIAL', 'turma': '01', 'ch': '64'},\n",
       "  'ECOI25': {'nome': 'INTERFACE HOMEM-COMPUTADOR', 'turma': '01', 'ch': '32'},\n",
       "  'ECOI10': {'nome': 'LABORATÓRIO DE CIRCUITOS ELÉTRICOS I',\n",
       "   'turma': '01',\n",
       "   'ch': '16'},\n",
       "  'EELI13': {'nome': 'LABORATÓRIO DE ELETRÔNICA BÁSICA II',\n",
       "   'turma': '02',\n",
       "   'ch': '32'},\n",
       "  'EELI15': {'nome': 'LABORATÓRIO DE ELETRÔNICA DIGITAL',\n",
       "   'turma': '02',\n",
       "   'ch': '32'},\n",
       "  'FISI06': {'nome': 'LABORATÓRIO FÍSICA B (ELETROMAGNETISMO, ÓTICA E FÍSICA MODERNA)',\n",
       "   'turma': '03',\n",
       "   'ch': '32'},\n",
       "  'ECAI29': {'nome': 'MODELAGEM E ANÁLISE DE SISTEMAS DINÂMICOS',\n",
       "   'turma': '01',\n",
       "   'ch': '64'},\n",
       "  'ECOI11': {'nome': 'PROJETO E ANÁLISE DE ALGORITMOS',\n",
       "   'turma': '01',\n",
       "   'ch': '64'},\n",
       "  'ECOI13': {'nome': 'TEORIA DA COMPUTAÇÃO', 'turma': '01', 'ch': '48'}},\n",
       " '2018.2': {'EPRI02': {'nome': 'ADMINISTRAÇÃO', 'turma': '03', 'ch': '32'},\n",
       "  'EELI10': {'nome': 'ELETRÔNICA BÁSICA I', 'turma': '01', 'ch': '64'},\n",
       "  'ECOI16': {'nome': 'ENGENHARIA DE SOFTWARE', 'turma': '01', 'ch': '64'},\n",
       "  'FISI04': {'nome': 'FUNDAMENTOS DE ELETROMAGNETISMO',\n",
       "   'turma': '01',\n",
       "   'ch': '64'},\n",
       "  'FISI05': {'nome': 'FUNDAMENTOS DE ÓTICA E FÍSICA MODERNA',\n",
       "   'turma': '02',\n",
       "   'ch': '32'},\n",
       "  'EELI11': {'nome': 'LABORATÓRIO DE ELETRÔNICA BÁSICA I',\n",
       "   'turma': '02',\n",
       "   'ch': '32'},\n",
       "  'ECAI26': {'nome': 'SINAIS E SISTEMAS', 'turma': '01', 'ch': '64'},\n",
       "  'ECOI15.1': {'nome': 'SISTEMAS OPERACIONAIS', 'turma': '01', 'ch': '32'},\n",
       "  'ECOI15.2': {'nome': 'SISTEMAS OPERACIONAIS (PRÁTICA)',\n",
       "   'turma': '03',\n",
       "   'ch': '32'}},\n",
       " '2018.1': {'ECOI14.1': {'nome': 'BANCO DE DADOS', 'turma': '01', 'ch': '32'},\n",
       "  'ECOI14.2': {'nome': 'BANCO DE DADOS (PRÁTICA)', 'turma': '01', 'ch': '32'},\n",
       "  'EELI07': {'nome': 'CIRCUITOS ELÉTRICOS I', 'turma': '02', 'ch': '64'},\n",
       "  'MATI06': {'nome': 'CÁLCULO DIFERENCIAL E INTEGRAL III',\n",
       "   'turma': '01',\n",
       "   'ch': '32'},\n",
       "  'MATI07': {'nome': 'EQUAÇÕES DIFERENCIAIS I', 'turma': '03', 'ch': '64'},\n",
       "  'FISI04': {'nome': 'FUNDAMENTOS DE ELETROMAGNETISMO',\n",
       "   'turma': '06',\n",
       "   'ch': '64'},\n",
       "  'ECOI30': {'nome': 'MARATONA DE PROGRAMAÇÃO III', 'turma': '01', 'ch': '32'},\n",
       "  'EPRI30': {'nome': 'PESQUISA OPERACIONAL', 'turma': '01', 'ch': '64'},\n",
       "  'EMBI02': {'nome': 'RESISTÊNCIA DOS MATERIAIS I',\n",
       "   'turma': '01',\n",
       "   'ch': '64'}},\n",
       " '2017.2': {'HUMI04': {'nome': 'CIDADANIA E RESPONSABILIDADE SOCIAL',\n",
       "   'turma': '02',\n",
       "   'ch': '48'},\n",
       "  'EELI07': {'nome': 'CIRCUITOS ELÉTRICOS I', 'turma': '01', 'ch': '64'},\n",
       "  'EAMI30': {'nome': 'CIÊNCIAS DO AMBIENTE', 'turma': '01', 'ch': '32'},\n",
       "  'MATI03': {'nome': 'CÁLCULO DIFERENCIAL E INTEGRAL II',\n",
       "   'turma': '04',\n",
       "   'ch': '64'},\n",
       "  'EMEI07': {'nome': 'FENÔMENOS DE TRANSPORTE', 'turma': '02', 'ch': '64'},\n",
       "  'EMEI06': {'nome': 'MECÂNICA ESTÁTICA', 'turma': '03', 'ch': '32'},\n",
       "  'MATI04': {'nome': 'ÁLGEBRA LINEAR', 'turma': '02', 'ch': '64'}},\n",
       " '2017.1': {'ECOI08': {'nome': 'ALGORITMOS E ESTRUTURA DE DADOS II',\n",
       "   'turma': '01',\n",
       "   'ch': '64'},\n",
       "  'ECOI12': {'nome': 'ARQUITETURA DE COMPUTADORES', 'turma': '01', 'ch': '64'},\n",
       "  'ECOI14.1': {'nome': 'BANCO DE DADOS', 'turma': '01', 'ch': '32'},\n",
       "  'ECOI14.2': {'nome': 'BANCO DE DADOS (PRÁTICA)', 'turma': '02', 'ch': '32'},\n",
       "  'EMEI07': {'nome': 'FENÔMENOS DE TRANSPORTE', 'turma': '03', 'ch': '64'},\n",
       "  'FISI01': {'nome': 'FUNDAMENTOS DE MECÂNICA', 'turma': '07', 'ch': '64'},\n",
       "  'EPRI04': {'nome': 'INTRODUÇÃO À ECONOMIA', 'turma': '02', 'ch': '48'},\n",
       "  'EMEI08': {'nome': 'LABORATÓRIO DE FENÔMENOS DE TRANSPORTE',\n",
       "   'turma': '03',\n",
       "   'ch': '16'},\n",
       "  'HUMI06': {'nome': 'METODOLOGIA CIENTÍFICA', 'turma': '01', 'ch': '32'},\n",
       "  'ECOI61': {'nome': 'METODOLOGIA CIENTÍFICA PARA ENGENHARIA DA COMPUTAÇÃO',\n",
       "   'turma': '01',\n",
       "   'ch': '16'}},\n",
       " '2016.2': {'ECOI04': {'nome': 'ALGORITMOS E ESTRUTURA DE DADOS I',\n",
       "   'turma': '02',\n",
       "   'ch': '64'},\n",
       "  'EELI02': {'nome': 'CIRCUITOS LÓGICOS', 'turma': '01', 'ch': '64'},\n",
       "  'MATI03': {'nome': 'CÁLCULO DIFERENCIAL E INTEGRAL II',\n",
       "   'turma': '01',\n",
       "   'ch': '64'},\n",
       "  'MATI05': {'nome': 'ESTATÍSTICA', 'turma': '05', 'ch': '64'},\n",
       "  'FISI02': {'nome': 'FUNDAMENTOS DE MECÂNICA ONDULATÓRIA E TERMODINÂMICA',\n",
       "   'turma': '08',\n",
       "   'ch': '32'},\n",
       "  'EELI03': {'nome': 'LABORATÓRIO DE CIRCUITOS LÓGICOS',\n",
       "   'turma': '01',\n",
       "   'ch': '32'},\n",
       "  'FISI03': {'nome': 'LABORATÓRIO DE FÍSICA A', 'turma': '17', 'ch': '32'},\n",
       "  'EMTI03': {'nome': 'LABORATÓRIO DE QUÍMICA GERAL',\n",
       "   'turma': '05',\n",
       "   'ch': '16'},\n",
       "  'ECO038': {'nome': 'MARATONA DE PROGRAMAÇÃO', 'turma': '01', 'ch': '32'},\n",
       "  'EMTI02': {'nome': 'QUÍMICA GERAL', 'turma': '02', 'ch': '64'}},\n",
       " '2016.1': {'HUMI01': {'nome': 'CIÊNCIA TECNOLOGIA E SOCIEDADE',\n",
       "   'turma': '02',\n",
       "   'ch': '16'},\n",
       "  'MATI01': {'nome': 'CÁLCULO DIFERENCIAL E INTEGRAL I',\n",
       "   'turma': '03',\n",
       "   'ch': '96'},\n",
       "  'EMEI02': {'nome': 'DESENHO APLICADO', 'turma': '05', 'ch': '32'},\n",
       "  'FISI01': {'nome': 'FUNDAMENTOS DE MECÂNICA', 'turma': '03', 'ch': '64'},\n",
       "  'MATI02': {'nome': 'GEOMETRIA ANALÍTICA E ÁLGEBRA LINEAR',\n",
       "   'turma': '01',\n",
       "   'ch': '64'},\n",
       "  'ECOI01': {'nome': 'INTRODUÇÃO À ENGENHARIA DE COMPUTAÇÃO',\n",
       "   'turma': '01',\n",
       "   'ch': '16'},\n",
       "  'HUMI02': {'nome': 'LÍNGUA PORTUGUESA I', 'turma': '04', 'ch': '32'},\n",
       "  'ECOI02.1': {'nome': 'LÓGICA DE PROGRAMAÇÃO', 'turma': '01', 'ch': '64'},\n",
       "  'ECOI02.2': {'nome': 'LÓGICA DE PROGRAMAÇÃO (PRÁTICA)',\n",
       "   'turma': '01',\n",
       "   'ch': '32'},\n",
       "  'ECOI03': {'nome': 'MATEMÁTICA DISCRETA', 'turma': '01', 'ch': '32'}}}"
      ]
     },
     "execution_count": 10,
     "metadata": {},
     "output_type": "execute_result"
    }
   ],
   "source": [
    "historico"
   ]
  },
  {
   "cell_type": "markdown",
   "metadata": {},
   "source": [
    "# Adicionando informações ao histórico (notas,faltas,situacao)"
   ]
  },
  {
   "cell_type": "code",
   "execution_count": 11,
   "metadata": {},
   "outputs": [],
   "source": [
    "chrome_webdriver.get(url_default) # acessa as notas pela func cmItemMouseup\n",
    "js_script = \"try{cmItemMouseUp('menu_form_menu_discente_j_id_jsp_275447739_49_menu',1);}catch(e){}\" # script encontrado que gerou a página\n",
    "chrome_webdriver.execute_script(js_script)\n",
    "soup = BeautifulSoup(chrome_webdriver.page_source, 'html5lib')\n",
    "\n",
    "\n",
    "for i in soup.find_all_next('tr', class_='linha'):\n",
    "    sigla = i.find_next('td')\n",
    "    resultado = sigla.find_next('td').find_next('td').find_next('td').find_next('td').find_next('td')\n",
    "    faltas = resultado.find_next('td')\n",
    "    situacao = faltas.find_next('td')\n",
    "    \n",
    "    sigla = sigla.text.replace(' ', '')\n",
    "    sigla = regex.sub('[\\n\\t]', \"\", sigla)\n",
    "    \n",
    "    resultado = resultado.text.replace(' ', '')\n",
    "    resultado = regex.sub('[\\n\\t]', \"\", resultado)\n",
    "    \n",
    "    faltas = faltas.text.replace(' ','')\n",
    "    faltas = regex.sub('[\\n\\t]', \"\", faltas)\n",
    "    \n",
    "    situacao = situacao.text.replace(' ','')\n",
    "    situacao = regex.sub('[\\n\\t]', \"\", situacao)\n",
    "    \n",
    "    periodo = regex.sub('\\s', '', i.find_previous('caption').text)\n",
    "    \n",
    "    if (sigla in historico[periodo]): # considera apenas materias (exclui resultado dos blocos)        \n",
    "        historico[periodo][sigla].update({\n",
    "        'resultado': resultado,\n",
    "        'faltas': faltas,\n",
    "        'situacao': situacao\n",
    "    })\n",
    "    "
   ]
  },
  {
   "cell_type": "markdown",
   "metadata": {},
   "source": [
    "# Obtendo grade e período atual do aluno"
   ]
  },
  {
   "cell_type": "code",
   "execution_count": 12,
   "metadata": {},
   "outputs": [],
   "source": [
    "# * Obtendo o arquivo histórico.\n",
    "# **Nota:**\n",
    "# Têm parâmetros errados na obtenção do scraping, porém, funciona. Se funciona, tá top!\n",
    "\n",
    "try:\n",
    "    fileExist = open((pasta_temp + 'historico_{}.pdf'.format(matricula)), 'r') # verifica se existe na temp\n",
    "\n",
    "except FileNotFoundError:\n",
    "    chrome_webdriver.get(url_default)\n",
    "    js_script = \"try{cmItemMouseUp('menu_form_menu_discente_j_id_jsp_275447739_49_menu',4);}catch(e){}\" # script encontrado que gerou a página\n",
    "    chrome_webdriver.execute_script(js_script)\n",
    "\n",
    "finally:\n",
    "    # Raspando o PDF\n",
    "    pt = textract.process(\n",
    "        '{}historico_{}.pdf'.format(pasta_temp,matricula ), \n",
    "        method='pdftotext'\n",
    "    )\n",
    "    pt = pt.decode(\"UTF-8\")\n",
    "    pt = str(pt)\n",
    "    pt = pt.split('\\n')\n",
    "    n = []\n",
    "\n",
    "    for i in pt:\n",
    "        if not i.strip():\n",
    "            continue\n",
    "        else:\n",
    "            n.append(i)\n",
    "    pt = '\\n'.join(n)\n",
    "\n",
    "    search = pt.find('Currículo:\\n') + 11\n",
    "    grade = ''.join([i for i in pt[search:pt.find('\\n',search)] if i.isdigit()])\n",
    "    search = pt.find('Período Letivo Atual:\\n') + 22\n",
    "    anoperiodoatual = pt[search:pt.find('\\n',search)]"
   ]
  },
  {
   "cell_type": "markdown",
   "metadata": {},
   "source": [
    "# Fechando o navegador"
   ]
  },
  {
   "cell_type": "code",
   "execution_count": 13,
   "metadata": {},
   "outputs": [],
   "source": [
    "chrome_webdriver.quit()"
   ]
  },
  {
   "cell_type": "markdown",
   "metadata": {},
   "source": [
    "# ''Funções'' para incrementar semestralmente"
   ]
  },
  {
   "cell_type": "code",
   "execution_count": 14,
   "metadata": {},
   "outputs": [],
   "source": [
    "incrementyear = lambda s: ( str(int(s[:-2]) + 1) + '.1' )\n",
    "incrementsem  = lambda s: ( s[:-1] + '2' )\n",
    "aplus = lambda s: ( incrementyear(s) if s[-1] == '2' else incrementsem(s) ) # incrementa semestralmente"
   ]
  },
  {
   "cell_type": "code",
   "execution_count": 15,
   "metadata": {},
   "outputs": [],
   "source": [
    "nano = anoperiodoinicial\n",
    "for i in range(1,int(anoperiodoatual)):\n",
    "    nano = aplus(nano) \n",
    "anoperiodoatual = nano # muda para que apareca o ano no estilo 20XX.Y ao invés de K"
   ]
  },
  {
   "cell_type": "code",
   "execution_count": 16,
   "metadata": {},
   "outputs": [
    {
     "data": {
      "text/plain": [
       "'2016.1'"
      ]
     },
     "execution_count": 16,
     "metadata": {},
     "output_type": "execute_result"
    }
   ],
   "source": [
    "anoperiodoinicial"
   ]
  },
  {
   "cell_type": "markdown",
   "metadata": {},
   "source": [
    "# Gerando XML"
   ]
  },
  {
   "cell_type": "code",
   "execution_count": 17,
   "metadata": {},
   "outputs": [],
   "source": [
    "to_xml = BasicXml()\n",
    "to_xml.create_tag('HistoricoCurricular','')\n",
    "to_xml.create_tag('Curso',curso)\n",
    "to_xml.create_tag('Grade',grade)\n",
    "to_xml.create_tag('Matricula',matricula)\n",
    "to_xml.create_tag('AnoPeriodoInicial',anoperiodoinicial)\n",
    "to_xml.create_tag('AnoPeriodoAtual',anoperiodoatual)\n",
    "to_xml.create_tag('Semestre', '')\n",
    "\n",
    "freq = lambda c,s : str(round((int(c)-int(s))/int(c)*100)) # usado para calcular a frequencia\n",
    "\n",
    "semestre = anoperiodoinicial\n",
    "while True: # Do ...while\n",
    "    to_xml.create_tag('A{}'.format(semestre), '')\n",
    "    for sigla in historico[semestre]:\n",
    "        to_xml.create_tag('Disciplina', '')\n",
    "        to_xml.create_tag('Nome', historico[semestre][sigla]['nome'])\n",
    "        to_xml.create_tag('Sigla', sigla)\n",
    "        to_xml.create_tag('Frequencia', freq(\n",
    "            historico[semestre][sigla]['ch'],\n",
    "            historico[semestre][sigla]['faltas']))\n",
    "        to_xml.create_tag('Nota', historico[semestre][sigla]['resultado'])\n",
    "        to_xml.create_tag('CH', historico[semestre][sigla]['ch'])\n",
    "        to_xml.create_tag('Situacao', historico[semestre][sigla]['situacao'])\n",
    "        to_xml.end_tag() # Fim disciplina\n",
    "    to_xml.end_tag() # fim A`periodo`\n",
    "    \n",
    "    if (semestre == anoperiodoatual):\n",
    "        break\n",
    "    semestre = aplus(semestre)\n",
    "to_xml.end_tag() # Semestre\n",
    "to_xml.end_tag() # HistoricoCurricular"
   ]
  },
  {
   "cell_type": "markdown",
   "metadata": {},
   "source": [
    "# Salvando o arquivo XML"
   ]
  },
  {
   "cell_type": "code",
   "execution_count": 18,
   "metadata": {},
   "outputs": [],
   "source": [
    "with open(pasta_xml_files + 'historico_{}.xml'.format(matricula), 'w', encoding='utf-8') as file:\n",
    "    file.write(to_xml.getXml())"
   ]
  },
  {
   "cell_type": "code",
   "execution_count": null,
   "metadata": {},
   "outputs": [],
   "source": []
  }
 ],
 "metadata": {
  "kernelspec": {
   "display_name": "Python 3",
   "language": "python",
   "name": "python3"
  },
  "language_info": {
   "codemirror_mode": {
    "name": "ipython",
    "version": 3
   },
   "file_extension": ".py",
   "mimetype": "text/x-python",
   "name": "python",
   "nbconvert_exporter": "python",
   "pygments_lexer": "ipython3",
   "version": "3.6.8"
  }
 },
 "nbformat": 4,
 "nbformat_minor": 2
}
