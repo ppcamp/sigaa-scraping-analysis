{
 "cells": [
  {
   "cell_type": "markdown",
   "metadata": {},
   "source": [
    "# Pacotes que precisam ser instalados:\n",
    "Comandos:\n",
    "```shell\n",
    "sudo pip install selenium    # Automatiza o navegador\n",
    "sudo pip install bs4         # Html\n",
    "sudo pip install html5lib    # 'parser' necessário para o bs4\n",
    "```\n",
    "<details>\n",
    "    <summary> Comandos para serem instalados (Todos os pacotes de uma vez)</summary>\n",
    "    <p><b>Instalação:</b><br><i>\n",
    "       <b>sudo</b> pip install bs4 html5lib textract</i>\n",
    "    </p>\n",
    "    <p><b>Remoção:</b><br><i>\n",
    "        <b>sudo</b> pip uninstall bs4 html5lib textract</i>\n",
    "    </p>\n",
    "</details>"
   ]
  },
  {
   "cell_type": "markdown",
   "metadata": {},
   "source": [
    "### Configurações:\n",
    "* Navegador Chrome -> versão 74.0.3729.108 (Official Build) (64-bit)\n",
    "* Chrome webdriver -> versão 74.0.3729.6"
   ]
  },
  {
   "cell_type": "code",
   "execution_count": 1,
   "metadata": {},
   "outputs": [
    {
     "data": {
      "application/javascript": [
       "IPython.notebook.set_autosave_interval(120000)"
      ]
     },
     "metadata": {},
     "output_type": "display_data"
    },
    {
     "name": "stdout",
     "output_type": "stream",
     "text": [
      "Autosaving every 120 seconds\n"
     ]
    }
   ],
   "source": [
    "%autosave 120"
   ]
  },
  {
   "cell_type": "markdown",
   "metadata": {},
   "source": [
    "# Imports"
   ]
  },
  {
   "cell_type": "code",
   "execution_count": 2,
   "metadata": {},
   "outputs": [],
   "source": [
    "from selenium import webdriver # automatiza nova guia do navegador em plano de fundo\n",
    "from bs4 import BeautifulSoup  # necessário para trabalhar com o html\n",
    "from selenium.webdriver.common.keys import Keys # Tecla ENTER\n",
    "\n",
    "import re as regex # expressao regular para strings (limpeza de \\t\\n)\n",
    "from os.path import abspath # diretorio atual\n",
    "\n",
    "from packages.SScraping import BasicXml # classe criada para gerar o XML"
   ]
  },
  {
   "cell_type": "markdown",
   "metadata": {},
   "source": [
    "# URL's"
   ]
  },
  {
   "cell_type": "code",
   "execution_count": 3,
   "metadata": {},
   "outputs": [],
   "source": [
    "url_login      = \"https://sigaa.unifei.edu.br/sigaa/verTelaLogin.do\"\n",
    "url_componente = \"https://sigaa.unifei.edu.br/sigaa/geral/componente_curricular/busca_geral.jsf\"\n",
    "url_grade      = \"https://sigaa.unifei.edu.br/sigaa/geral/estrutura_curricular/busca_geral.jsf\""
   ]
  },
  {
   "cell_type": "markdown",
   "metadata": {},
   "source": [
    "# Código e sigla do curso"
   ]
  },
  {
   "cell_type": "markdown",
   "metadata": {},
   "source": [
    "**Nota**\n",
    "> Perceba que para a **SIGLA** não há um padrão definido, i.e. ECO/EEL/ECA em contrapartida EMT\n",
    "\n",
    "\n",
    "| Cód     \t| Ano-Período \t| Matriz Curricular                                                \t|\n",
    "|---------\t|-------------\t|------------------------------------------------------------------\t|\n",
    "| 0202015 \t| 2015.1      \t| ENGENHARIA ELÉTRICA - Presencial - MTN - Semestral - BACHARELADO \t|\n",
    "| 0202012 \t| 2012.1      \t| ENGENHARIA ELÉTRICA - Presencial - MTN - Semestral - BACHARELADO \t|\n",
    "| 0202010 \t| 2010.1      \t| ENGENHARIA ELÉTRICA - Presencial - MTN - Semestral - BACHARELADO \t|\n",
    "\n",
    "---\n",
    "| Cód     \t| Ano-Período \t| Matriz Curricular                                                     \t|\n",
    "|---------\t|-------------\t|-----------------------------------------------------------------------\t|\n",
    "| 0192015 \t| 2015.1      \t| ENGENHARIA DE COMPUTAÇÃO - Presencial - MTN - Semestral - BACHARELADO \t|\n",
    "| 0192012 \t| 2012.1      \t| ENGENHARIA DE COMPUTAÇÃO - Presencial - MTN - Semestral - BACHARELADO \t|\n",
    "| 0192010 \t| 2010.1      \t| ENGENHARIA DE COMPUTAÇÃO - Presencial - MTN - Semestral - BACHARELADO \t|\n",
    "\n",
    "---\n",
    "| Cód     \t| Ano-Período \t| Matriz Curricular                                                               |\n",
    "|---------\t|-------------\t|---------------------------------------------------------------------------------|\n",
    "| 0702015 \t| 2015.1      \t| ENGENHARIA DE CONTROLE E AUTOMAÇÃO - Presencial - MTN - Semestral - BACHARELADO |\n",
    "| 0702012 \t| 2012.1      \t| ENGENHARIA DE CONTROLE E AUTOMAÇÃO - Presencial - MTN - Semestral - BACHARELADO |\n",
    "| 0702010 \t| 2010.1      \t| ENGENHARIA DE CONTROLE E AUTOMAÇÃO - Presencial - MTN - Semestral - BACHARELADO |\n",
    "\n",
    "<br>\n",
    "<br>\n",
    "<br>\n"
   ]
  },
  {
   "cell_type": "code",
   "execution_count": 4,
   "metadata": {},
   "outputs": [
    {
     "name": "stdout",
     "output_type": "stream",
     "text": [
      "Digite o código do curso.\n",
      "Default: 0192015\tCódigo: \n"
     ]
    }
   ],
   "source": [
    "codcurso = input(\"Digite o código do curso.\\nDefault: 0192015\\tCódigo: \") or '0192015' # Caso não digite, retorna ECO-2015.1 por padrão"
   ]
  },
  {
   "cell_type": "markdown",
   "metadata": {},
   "source": [
    "# Configurando o ambiente automatizado"
   ]
  },
  {
   "cell_type": "markdown",
   "metadata": {},
   "source": [
    "#### O arquivo do webdriver pode ser encontrado em: [webdriverChrome](http://chromedriver.chromium.org/downloads)"
   ]
  },
  {
   "cell_type": "code",
   "execution_count": 5,
   "metadata": {},
   "outputs": [],
   "source": [
    "pasta_projeto = abspath('')"
   ]
  },
  {
   "cell_type": "code",
   "execution_count": 6,
   "metadata": {},
   "outputs": [],
   "source": [
    "chrome_options = webdriver.ChromeOptions() # variavel de opcoes\n",
    "# chrome_options.add_argument('--headless') # tire o comentário para ocultar a janela\n",
    "chrome_options.binary_location = \"/usr/bin/google-chrome\" # caminho do executavel do chrome\n",
    "chrome_webdriver_path = pasta_projeto + '/webdriver/chromedriver' # caminho do arquivo chromedriver\n",
    "\n",
    "chrome_webdriver = webdriver.Chrome(executable_path=chrome_webdriver_path, options=chrome_options) # janela"
   ]
  },
  {
   "cell_type": "markdown",
   "metadata": {},
   "source": [
    "# Fazendo login no _SIGAA_"
   ]
  },
  {
   "cell_type": "code",
   "execution_count": 7,
   "metadata": {},
   "outputs": [],
   "source": [
    "name = '12638891665' # Pede o login do sigaa (Usamos a tela vista por um aluno)\n",
    "pwd  = 'Sigaa*0223'"
   ]
  },
  {
   "cell_type": "code",
   "execution_count": 8,
   "metadata": {},
   "outputs": [],
   "source": [
    "try:\n",
    "    chrome_webdriver.get(url_login) # acessando url\n",
    "\n",
    "    user_name = chrome_webdriver.find_element_by_name(\"user.login\") # encontra elemento\n",
    "    user_name.clear() # limpa o campo\n",
    "    user_name.send_keys(name) # envia o conteudo de name para o campo\n",
    "\n",
    "    user_pwd = chrome_webdriver.find_element_by_name(\"user.senha\")\n",
    "    user_pwd.clear()\n",
    "    user_pwd.send_keys(pwd)\n",
    "\n",
    "    user_pwd.send_keys(Keys.ENTER) # tecla enter\n",
    "\n",
    "except:\n",
    "    print ('Não foi possível encontrar os elementos na página -> login.\\nVerifique sua conexão')"
   ]
  },
  {
   "cell_type": "markdown",
   "metadata": {},
   "source": [
    "# Buscando grade no Sigaa"
   ]
  },
  {
   "cell_type": "markdown",
   "metadata": {},
   "source": [
    "##### Montando grade"
   ]
  },
  {
   "cell_type": "code",
   "execution_count": 9,
   "metadata": {},
   "outputs": [],
   "source": [
    "try:\n",
    "    chrome_webdriver.get(url_grade)\n",
    "\n",
    "    chrome_webdriver.find_element_by_id('busca:codigo').clear()\n",
    "    chrome_webdriver.find_element_by_id('busca:checkCodigo').click()\n",
    "\n",
    "    box = chrome_webdriver.find_element_by_id('busca:codigo')\n",
    "    box.send_keys(codcurso)\n",
    "    box.send_keys(Keys.ENTER)\n",
    "\n",
    "    chrome_webdriver.find_element_by_id('resultado:relatorio').click()\n",
    "\n",
    "    soup = BeautifulSoup(chrome_webdriver.page_source, 'html5lib')\n",
    "\n",
    "except:\n",
    "    print ('Não foi possível encontrar os elementos na página -> Busca grade.\\nVerifique sua conexão')"
   ]
  },
  {
   "cell_type": "markdown",
   "metadata": {},
   "source": [
    "##### Montando dicionário"
   ]
  },
  {
   "cell_type": "code",
   "execution_count": 10,
   "metadata": {},
   "outputs": [],
   "source": [
    "ano = (soup.select('#relatorio > table > tbody > tr:nth-of-type(5) > td')[0].text)\n",
    "ano = ano.replace(' ','')\n",
    "\n",
    "curso = (soup.select('#relatorio > table > tbody > tr:nth-of-type(2) > td')[0].text)\n",
    "curso = curso[:curso.find(' - ')]"
   ]
  },
  {
   "cell_type": "code",
   "execution_count": 11,
   "metadata": {},
   "outputs": [],
   "source": [
    "cname_cod = []\n",
    "cname_p = []\n",
    "cname_n = []"
   ]
  },
  {
   "cell_type": "code",
   "execution_count": 12,
   "metadata": {},
   "outputs": [],
   "source": [
    "for i in soup.find_all('tr', class_='componentes'):\n",
    "    cod=i.find_all('td')[0].text\n",
    "    p=i.find_previous('tr', class_='tituloRelatorio').text\n",
    "    n=i.find_all('td')[1].text\n",
    "    n=regex.sub('[\\t\\n]','',n)\n",
    "    p=regex.sub('[\\t\\n]','',p)\n",
    "    n=n[:n.rfind(' - ')]\n",
    "    aux=regex.search('[\\d]+',p)\n",
    "    \n",
    "    p = 'Optativa'\n",
    "    if (aux is not None):\n",
    "        p=aux.group()\n",
    "    \n",
    "    cname_cod.append(cod)\n",
    "    cname_n.append(n)\n",
    "    cname_p.append(p)"
   ]
  },
  {
   "cell_type": "code",
   "execution_count": 13,
   "metadata": {},
   "outputs": [
    {
     "name": "stdout",
     "output_type": "stream",
     "text": [
      "BAC021 Optativa MATEMÁTICA III\n",
      "CEI038 Optativa SEMINÁRIOS DE INTERNACIONALIZAÇÃO – PAÍSES ANGLOFÔNICOS\n",
      "CEI039 Optativa SEMINÁRIOS DE INTERNACIONALIZAÇÃO – FRANÇA\n",
      "ECA020 Optativa Instrumentação Industrial II\n",
      "ECA024 Optativa Robótica\n",
      "ECAI08 Optativa MEDIDAS ELÉTRICAS E INSTRUMENTAÇÃO\n",
      "ECO019 Optativa Compiladores\n",
      "ECO038 Optativa MARATONA DE PROGRAMAÇÃO\n",
      "ECO041 Optativa Tópicos Especiais em Engenharia de Software\n",
      "ECO042 Optativa Tópicos Especiais em Microeletrônica\n",
      "ECO043 Optativa Visão Computacional\n",
      "ECO044 Optativa PROGRAMAÇÃO PARA DISPOSITIVOS MÓVEIS\n",
      "ECO045 Optativa Mineração e Armazenamento de Dados\n",
      "ECO046 Optativa Recuperação de Informação\n",
      "ECO047 Optativa Tópicos Especiais em Engenharia de Computação\n",
      "ECO049 Optativa Tópicos Especiais em Matemática\n",
      "ECO050 Optativa Tópicos Especiais em Física\n",
      "ECOI27 Optativa NATURAL COMPUTING\n",
      "ECOI28 Optativa Maratona de Programação I\n",
      "ECOI29 Optativa MARATONA DE PROGRAMAÇÃO II\n",
      "ECOI30 Optativa MARATONA DE PROGRAMAÇÃO III\n",
      "ECOI31 Optativa Maratona de Programação IV\n",
      "ECOI34 Optativa CIRCUITO CMOS EM INVERSÃO FRACA\n",
      "ECOI35 Optativa DESENVOLVIMENTO DE SISTEMAS WEB\n",
      "ECOI36 Optativa FLUXO DE PROJETO DE CIRCUITOS INTEGRADOS\n",
      "ECOI37 Optativa MINERAÇÃO DE DADOS\n",
      "EDF101 Optativa Educação Física I\n",
      "EEL027 Optativa MÁQUINAS ELÉTRICAS I\n",
      "EPR013 Optativa SISTEMAS DE INFORMAÇÃO\n",
      "EPRI47 Optativa GESTÃO DE ONG'S\n",
      "LET007 Optativa LIBRAS - LÍNGUA BRASILEIRA DE SINAIS\n",
      "ECOI01 1 INTRODUÇÃO À ENGENHARIA DE COMPUTAÇÃO\n",
      "ECOI02 1 LÓGICA DE PROGRAMAÇÃO\n",
      "ECOI03 1 MATEMÁTICA DISCRETA\n",
      "EMEI02 1 DESENHO APLICADO\n",
      "FISI01 1 FUNDAMENTOS DE MECÂNICA\n",
      "HUMI01 1 CIÊNCIA TECNOLOGIA E SOCIEDADE\n",
      "HUMI02 1 LÍNGUA PORTUGUESA I\n",
      "MATI01 1 CÁLCULO DIFERENCIAL E INTEGRAL I\n",
      "MATI02 1 GEOMETRIA ANALÍTICA E ÁLGEBRA LINEAR\n",
      "ECOI04 2 ALGORITMOS E ESTRUTURA DE DADOS I\n",
      "EELI02 2 CIRCUITOS LÓGICOS\n",
      "EELI03 2 LABORATÓRIO DE CIRCUITOS LÓGICOS\n",
      "EMEI06 2 MECÂNICA ESTÁTICA\n",
      "EMTI02 2 QUÍMICA GERAL\n",
      "EMTI03 2 LABORATÓRIO DE QUÍMICA GERAL\n",
      "FISI02 2 FUNDAMENTOS DE MECÂNICA ONDULATÓRIA E TERMODINÂMICA\n",
      "FISI03 2 LABORATÓRIO DE FÍSICA A\n",
      "MATI03 2 CÁLCULO DIFERENCIAL E INTEGRAL II\n",
      "ECOI08 3 ALGORITMOS E ESTRUTURA DE DADOS II\n",
      "ECOI61 3 METODOLOGIA CIENTÍFICA PARA ENGENHARIA DA COMPUTAÇÃO\n",
      "EMBI02 3 RESISTÊNCIA DOS MATERIAIS I\n",
      "EMEI07 3 FENÔMENOS DE TRANSPORTE\n",
      "EMEI08 3 LABORATÓRIO DE FENÔMENOS DE TRANSPORTE\n",
      "FISI04 3 FUNDAMENTOS DE ELETROMAGNETISMO\n",
      "HUMI06 3 METODOLOGIA CIENTÍFICA\n",
      "MATI06 3 CÁLCULO DIFERENCIAL E INTEGRAL III\n",
      "MATI07 3 EQUAÇÕES DIFERENCIAIS I\n",
      "ECOI09 4 LINGUAGENS DE PROGRAMAÇÃO\n",
      "EELI07 4 CIRCUITOS ELÉTRICOS I\n",
      "FISI05 4 FUNDAMENTOS DE ÓTICA E FÍSICA MODERNA\n",
      "FISI07 4 ELETROMAGNETISMO CLÁSSICO\n",
      "MATI04 4 ÁLGEBRA LINEAR\n",
      "MATI05 4 ESTATÍSTICA\n",
      "MATI08 4 CÁLCULO NUMÉRICO\n",
      "ECAI26 5 SINAIS E SISTEMAS\n",
      "ECOI10 5 LABORATÓRIO DE CIRCUITOS ELÉTRICOS I\n",
      "ECOI11 5 PROJETO E ANÁLISE DE ALGORITMOS\n",
      "ECOI12 5 ARQUITETURA DE COMPUTADORES\n",
      "ECOI14 5 BANCO DE DADOS\n",
      "EELI10 5 ELETRÔNICA BÁSICA I\n",
      "EELI11 5 LABORATÓRIO DE ELETRÔNICA BÁSICA I\n",
      "FISI06 5 LABORATÓRIO FÍSICA B (ELETROMAGNETISMO, ÓTICA E FÍSICA MODERNA)\n",
      "ECAI29 6 MODELAGEM E ANÁLISE DE SISTEMAS DINÂMICOS\n",
      "ECOI15 6 SISTEMAS OPERACIONAIS\n",
      "ECOI16 6 ENGENHARIA DE SOFTWARE\n",
      "ECOI32 6 CIRCUITOS INTEGRADOS ANALÓGICOS\n",
      "EELI12 6 ELETRÔNICA BÁSICA II\n",
      "EELI13 6 LABORATÓRIO DE ELETRÔNICA BÁSICA II\n",
      "EELI14 6 ELETRÔNICA DIGITAL\n",
      "EELI15 6 LABORATÓRIO DE ELETRÔNICA DIGITAL\n",
      "ECAI04 7 INTRODUÇÃO AOS SISTEMAS DE CONTROLE\n",
      "ECAI11 7 MICROCONTROLADORES\n",
      "ECAI13 7 LABORATÓRIO DE PROCESSAMENTO DIGITAL DE SINAIS\n",
      "ECAI44 7 PROCESSAMENTO DIGITAL DE SINAIS\n",
      "ECOI13 7 TEORIA DA COMPUTAÇÃO\n",
      "ECOI18 7 PRINCÍPIOS DE COMUNICAÇÃO\n",
      "ECOI19 7 LABORATÓRIOS DE PRINCÍPIOS DE COMUNICAÇÃO\n",
      "ECOI33 7 CIRCUITOS INTEGRADOS DIGITAIS\n",
      "ECAI05 8 LABORATÓRIO DE SISTEMAS DE CONTROLE I\n",
      "ECAI07 8 AUTOMAÇÃO DE SISTEMAS INDUSTRIAIS\n",
      "ECOI07 8 SISTEMAS EMBARCADOS E DE TEMPO REAL\n",
      "ECOI21 8 REDES DE COMPUTADORES\n",
      "ECOI24 8 COMPUTAÇÃO GRÁFICA E PROCESSAMENTO DIGITAL DE IMAGENS\n",
      "ECOI26 8 COMPILADORES\n",
      "EPRI30 8 PESQUISA OPERACIONAL\n",
      "EAMI30 9 CIÊNCIAS DO AMBIENTE\n",
      "ECOI20 9 GESTÃO DE PROJETOS\n",
      "ECOI22 9 INTELIGÊNCIA ARTIFICIAL\n",
      "ECOI23 9 SISTEMAS PARALELOS E DISTRIBUIDOS\n",
      "ECOI25 9 INTERFACE HOMEM-COMPUTADOR\n",
      "EPRI02 9 ADMINISTRAÇÃO\n",
      "EPRI04 9 INTRODUÇÃO À ECONOMIA\n",
      "HUMI04 9 CIDADANIA E RESPONSABILIDADE SOCIAL\n",
      "TCCI01 9 TRABALHO DE CONCLUSÃO DE CURSO\n",
      "ESTSUPERV_019_160 10 ESTÁGIO SUPERVISIONADO\n",
      "TCCI02 10 TRABALHO DE CONCLUSÃO DE CURSO\n"
     ]
    }
   ],
   "source": [
    "for i,j,k in zip(cname_cod,cname_n,cname_p):\n",
    "    print (i,k,j)"
   ]
  },
  {
   "cell_type": "markdown",
   "metadata": {},
   "source": [
    "# Busca: Pré,Parcial e Co Requisito"
   ]
  },
  {
   "cell_type": "code",
   "execution_count": 14,
   "metadata": {},
   "outputs": [],
   "source": [
    "cname_pre = {}\n",
    "cname_co = {}"
   ]
  },
  {
   "cell_type": "code",
   "execution_count": 15,
   "metadata": {},
   "outputs": [],
   "source": [
    "for i,j in zip(cname_cod,cname_p):\n",
    "    # Dessa forma NÃO procura pre e co para\n",
    "    # materias optativas\n",
    "    if j == \"Optativa\":\n",
    "        continue\n",
    "\n",
    "    chrome_webdriver.get(url_componente)\n",
    "    chrome_webdriver.find_element_by_name('formBusca:checkCodigo').click()\n",
    "\n",
    "    box = chrome_webdriver.find_element_by_name('formBusca:j_id_jsp_433775776_860')\n",
    "    box.clear()\n",
    "    box.send_keys(i)\n",
    "    box.send_keys(Keys.ENTER) # shows 'listagem' \n",
    "    \n",
    "    # Bloco\n",
    "    box = chrome_webdriver.find_elements_by_xpath('//a[@title=\\'Relatório para impressão\\' ]')\n",
    "    if len(box) == 3:\n",
    "        box[1].click()\n",
    "    elif len(box) == 1:\n",
    "        box[0].click()\n",
    "\n",
    "\n",
    "    pre = (chrome_webdriver.find_element_by_xpath('//th[text()[contains(.,\\'Pré-Requisitos:\\')]]/following-sibling::td')).text\n",
    "    co = (chrome_webdriver.find_element_by_xpath('//th[text()[contains(.,\\'Co-Requisitos:\\')]]/following-sibling::td')).text\n",
    "\n",
    "    pre = regex.findall('[\\w\\d]{3,}',pre) # Tamanho minimo é a palavra OU\n",
    "    co = regex.findall('[\\w\\d]{3,}',co)\n",
    "\n",
    "    cname_pre[i] = pre\n",
    "    cname_co[i] = co\n"
   ]
  },
  {
   "cell_type": "markdown",
   "metadata": {},
   "source": [
    "# Fechando o navegador"
   ]
  },
  {
   "cell_type": "code",
   "execution_count": 16,
   "metadata": {},
   "outputs": [],
   "source": [
    "chrome_webdriver.close()"
   ]
  },
  {
   "cell_type": "code",
   "execution_count": 17,
   "metadata": {},
   "outputs": [
    {
     "ename": "KeyError",
     "evalue": "'BAC021'",
     "output_type": "error",
     "traceback": [
      "\u001b[0;31m---------------------------------------------------------------------------\u001b[0m",
      "\u001b[0;31mKeyError\u001b[0m                                  Traceback (most recent call last)",
      "\u001b[0;32m<ipython-input-17-37b06d8bd346>\u001b[0m in \u001b[0;36m<module>\u001b[0;34m\u001b[0m\n\u001b[1;32m      1\u001b[0m \u001b[0;32mfor\u001b[0m \u001b[0mcod\u001b[0m\u001b[0;34m,\u001b[0m\u001b[0mnome\u001b[0m \u001b[0;32min\u001b[0m \u001b[0mzip\u001b[0m\u001b[0;34m(\u001b[0m\u001b[0mcname_cod\u001b[0m\u001b[0;34m,\u001b[0m\u001b[0mcname_n\u001b[0m\u001b[0;34m)\u001b[0m\u001b[0;34m:\u001b[0m\u001b[0;34m\u001b[0m\u001b[0;34m\u001b[0m\u001b[0m\n\u001b[0;32m----> 2\u001b[0;31m     \u001b[0mprint\u001b[0m \u001b[0;34m(\u001b[0m\u001b[0mcod\u001b[0m\u001b[0;34m,\u001b[0m\u001b[0mnome\u001b[0m\u001b[0;34m,\u001b[0m \u001b[0mcname_pre\u001b[0m\u001b[0;34m[\u001b[0m\u001b[0mcod\u001b[0m\u001b[0;34m]\u001b[0m\u001b[0;34m,\u001b[0m \u001b[0mcname_co\u001b[0m\u001b[0;34m[\u001b[0m\u001b[0mcod\u001b[0m\u001b[0;34m]\u001b[0m\u001b[0;34m)\u001b[0m\u001b[0;34m\u001b[0m\u001b[0;34m\u001b[0m\u001b[0m\n\u001b[0m",
      "\u001b[0;31mKeyError\u001b[0m: 'BAC021'"
     ]
    }
   ],
   "source": [
    "for cod,nome in zip(cname_cod,cname_n):\n",
    "    print (cod,nome, cname_pre[cod], cname_co[cod])"
   ]
  },
  {
   "cell_type": "markdown",
   "metadata": {},
   "source": [
    "# Criando estrutura do arquivo XML"
   ]
  },
  {
   "cell_type": "code",
   "execution_count": 20,
   "metadata": {},
   "outputs": [],
   "source": [
    "to_xml = BasicXml()\n",
    "to_xml.create_tag('Grade','')\n",
    "to_xml.create_tag('Curso',curso)\n",
    "to_xml.create_tag('Ano',ano)\n",
    "to_xml.create_tag('NDisciplinas', str(len(cname_cod))) # considera todas as disciplinas oferecidas\n",
    "\n",
    "to_xml.create_tag('Disciplinas','')\n",
    "for cod,nome,per in zip(cname_cod,cname_n,cname_p):\n",
    "    to_xml.create_tag('Disciplina', '')\n",
    "    \n",
    "    to_xml.create_tag('Nome',nome)\n",
    "    to_xml.create_tag('Sigla',cod)\n",
    "    to_xml.create_tag('Periodo', per)\n",
    "    \n",
    "    if cod in cname_pre and cname_pre[cod]:\n",
    "        to_xml.create_tag('PreRequisitoTotal','')\n",
    "        for j in cname_pre[cod]:\n",
    "            to_xml.create_tag('Sigla',j)   \n",
    "        to_xml.end_tag()\n",
    "    \n",
    "#     if len(codes_names[i]['parciais']) > 0:\n",
    "#         to_xml.create_tag('PreRequisitoParcial','')\n",
    "#         for j in codes_names[i]['parciais']:\n",
    "#             to_xml.create_tag('Sigla',j)   \n",
    "#         to_xml.end_tag()\n",
    "        \n",
    "    if cod in cname_co and cname_co[cod]:\n",
    "        to_xml.create_tag('CoRequisito','')\n",
    "        for j in cname_co[cod]:\n",
    "            to_xml.create_tag('Sigla',j)   \n",
    "        to_xml.end_tag()\n",
    "  \n",
    "    to_xml.end_tag() # Fim da tag disciplina\n",
    "to_xml.end_tag() # fim da tag disciplinaS\n",
    "to_xml.end_tag() # fim da tag Grade"
   ]
  },
  {
   "cell_type": "markdown",
   "metadata": {},
   "source": [
    "# Gerando o arquivo XML"
   ]
  },
  {
   "cell_type": "code",
   "execution_count": 21,
   "metadata": {},
   "outputs": [],
   "source": [
    "with open(pasta_projeto + '/xml_files/{}_{} - {}.xml'.format(codcurso,curso,ano), 'w', encoding='utf-8') as file:\n",
    "    file.write(to_xml.getXml())"
   ]
  },
  {
   "cell_type": "code",
   "execution_count": null,
   "metadata": {},
   "outputs": [],
   "source": []
  }
 ],
 "metadata": {
  "kernelspec": {
   "display_name": "Python 3",
   "language": "python",
   "name": "python3"
  },
  "language_info": {
   "codemirror_mode": {
    "name": "ipython",
    "version": 3
   },
   "file_extension": ".py",
   "mimetype": "text/x-python",
   "name": "python",
   "nbconvert_exporter": "python",
   "pygments_lexer": "ipython3",
   "version": "3.6.8"
  }
 },
 "nbformat": 4,
 "nbformat_minor": 2
}
